{
 "cells": [
  {
   "cell_type": "markdown",
   "metadata": {},
   "source": [
    "# Q2\n",
    "1. Associative rule for addition says (x + y) + z == x + (y + z). Check association rule using x = 0.1, y = 0.1 and z = 1.0 in Julia. Explain what you find."
   ]
  },
  {
   "cell_type": "code",
   "execution_count": 10,
   "metadata": {
    "collapsed": false
   },
   "outputs": [
    {
     "data": {
      "text/plain": [
       "false"
      ]
     },
     "execution_count": 10,
     "metadata": {},
     "output_type": "execute_result"
    }
   ],
   "source": [
    "x = 0.1\n",
    "y = 0.1\n",
    "z = 1.0\n",
    "a = 0.1\n",
    "(x + y) + z == x + (y + z)"
   ]
  },
  {
   "cell_type": "code",
   "execution_count": null,
   "metadata": {
    "collapsed": true
   },
   "outputs": [],
   "source": [
    "(x + y) + z == x + (y + z)"
   ]
  },
  {
   "cell_type": "code",
   "execution_count": 7,
   "metadata": {
    "collapsed": false
   },
   "outputs": [
    {
     "name": "stdout",
     "output_type": "stream",
     "text": [
      "0x1.999999999999ap-4"
     ]
    }
   ],
   "source": [
    "@printf(\"%a\",x)"
   ]
  },
  {
   "cell_type": "markdown",
   "metadata": {},
   "source": [
    "Associativity for addition is problematic due to floating point number representation."
   ]
  },
  {
   "cell_type": "markdown",
   "metadata": {},
   "source": [
    "2. Do floating-point numbers obey the associative rule for multiplication: (x * y) * z == x * (y * z)?"
   ]
  },
  {
   "cell_type": "code",
   "execution_count": 8,
   "metadata": {
    "collapsed": false
   },
   "outputs": [
    {
     "data": {
      "text/plain": [
       "true"
      ]
     },
     "execution_count": 8,
     "metadata": {},
     "output_type": "execute_result"
    }
   ],
   "source": [
    "(x * y) * z == x * (y * z)"
   ]
  },
  {
   "cell_type": "markdown",
   "metadata": {},
   "source": [
    "3. Do floating-point numbers obey the distributive rule: a * (x + y) == a * x + a * y?"
   ]
  },
  {
   "cell_type": "code",
   "execution_count": 11,
   "metadata": {
    "collapsed": false
   },
   "outputs": [
    {
     "data": {
      "text/plain": [
       "true"
      ]
     },
     "execution_count": 11,
     "metadata": {},
     "output_type": "execute_result"
    }
   ],
   "source": [
    "a * (x + y) == a * x + a * y"
   ]
  },
  {
   "cell_type": "markdown",
   "metadata": {},
   "source": [
    "4. Is 0 * x == 0 true for all floating-point number x?"
   ]
  },
  {
   "cell_type": "code",
   "execution_count": 12,
   "metadata": {
    "collapsed": false
   },
   "outputs": [
    {
     "data": {
      "text/plain": [
       "true"
      ]
     },
     "execution_count": 12,
     "metadata": {},
     "output_type": "execute_result"
    }
   ],
   "source": [
    "0 * x == 0"
   ]
  },
  {
   "cell_type": "code",
   "execution_count": 13,
   "metadata": {
    "collapsed": false
   },
   "outputs": [
    {
     "data": {
      "text/plain": [
       "false"
      ]
     },
     "execution_count": 13,
     "metadata": {},
     "output_type": "execute_result"
    }
   ],
   "source": [
    "0 * Inf == 0"
   ]
  },
  {
   "cell_type": "markdown",
   "metadata": {},
   "source": [
    "No."
   ]
  },
  {
   "cell_type": "markdown",
   "metadata": {},
   "source": [
    "5. Is x / a == x * (1 / a) always true?"
   ]
  },
  {
   "cell_type": "code",
   "execution_count": 14,
   "metadata": {
    "collapsed": false
   },
   "outputs": [
    {
     "data": {
      "text/plain": [
       "true"
      ]
     },
     "execution_count": 14,
     "metadata": {},
     "output_type": "execute_result"
    }
   ],
   "source": [
    "x / a == x * (1 / a)"
   ]
  },
  {
   "cell_type": "code",
   "execution_count": 15,
   "metadata": {
    "collapsed": false
   },
   "outputs": [
    {
     "data": {
      "text/plain": [
       "true"
      ]
     },
     "execution_count": 15,
     "metadata": {},
     "output_type": "execute_result"
    }
   ],
   "source": [
    "x / Inf == x * (1 / Inf)"
   ]
  },
  {
   "cell_type": "code",
   "execution_count": 16,
   "metadata": {
    "collapsed": false
   },
   "outputs": [
    {
     "data": {
      "text/plain": [
       "false"
      ]
     },
     "execution_count": 16,
     "metadata": {},
     "output_type": "execute_result"
    }
   ],
   "source": [
    "x / NaN == x * (1 / NaN)"
   ]
  },
  {
   "cell_type": "code",
   "execution_count": null,
   "metadata": {
    "collapsed": true
   },
   "outputs": [],
   "source": [
    "No."
   ]
  },
  {
   "cell_type": "markdown",
   "metadata": {},
   "source": [
    "# Q3"
   ]
  },
  {
   "cell_type": "code",
   "execution_count": 17,
   "metadata": {
    "collapsed": false
   },
   "outputs": [
    {
     "data": {
      "text/plain": [
       "g (generic function with 1 method)"
      ]
     },
     "execution_count": 17,
     "metadata": {},
     "output_type": "execute_result"
    }
   ],
   "source": [
    "function g(k)\n",
    "    for i = 1:10\n",
    "        k = 5k - 1\n",
    "    end\n",
    "    k\n",
    "end"
   ]
  },
  {
   "cell_type": "markdown",
   "metadata": {},
   "source": [
    "1. Use @code_llvm to find the LLVM bitcode of compiled g with Int64 input. Does the result surprise you?"
   ]
  },
  {
   "cell_type": "code",
   "execution_count": 18,
   "metadata": {
    "collapsed": false
   },
   "outputs": [
    {
     "name": "stdout",
     "output_type": "stream",
     "text": [
      "\n",
      "define i64 @julia_g_67294(i64) #0 !dbg !5 {\n",
      "top:\n",
      "  %1 = mul i64 %0, 9765625\n",
      "  %2 = add i64 %1, -2441406\n",
      "  ret i64 %2\n",
      "}\n"
     ]
    }
   ],
   "source": [
    "@code_llvm g(Int64(1.0))"
   ]
  },
  {
   "cell_type": "markdown",
   "metadata": {},
   "source": [
    "As expected."
   ]
  },
  {
   "cell_type": "markdown",
   "metadata": {},
   "source": [
    "2. Use @code_llvm to find the LLVM bitcode of compiled g with Float64 input. Does the result surprise you?"
   ]
  },
  {
   "cell_type": "code",
   "execution_count": 20,
   "metadata": {
    "collapsed": false
   },
   "outputs": [
    {
     "name": "stdout",
     "output_type": "stream",
     "text": [
      "\n",
      "define double @julia_g_67297(double) #0 !dbg !5 {\n",
      "top:\n",
      "  %1 = fmul double %0, 5.000000e+00\n",
      "  %2 = fadd double %1, -1.000000e+00\n",
      "  %3 = fmul double %2, 5.000000e+00\n",
      "  %4 = fadd double %3, -1.000000e+00\n",
      "  %5 = fmul double %4, 5.000000e+00\n",
      "  %6 = fadd double %5, -1.000000e+00\n",
      "  %7 = fmul double %6, 5.000000e+00\n",
      "  %8 = fadd double %7, -1.000000e+00\n",
      "  %9 = fmul double %8, 5.000000e+00\n",
      "  %10 = fadd double %9, -1.000000e+00\n",
      "  %11 = fmul double %10, 5.000000e+00\n",
      "  %12 = fadd double %11, -1.000000e+00\n",
      "  %13 = fmul double %12, 5.000000e+00\n",
      "  %14 = fadd double %13, -1.000000e+00\n",
      "  %15 = fmul double %14, 5.000000e+00\n",
      "  %16 = fadd double %15, -1.000000e+00\n",
      "  %17 = fmul double %16, 5.000000e+00\n",
      "  %18 = fadd double %17, -1.000000e+00\n",
      "  %19 = fmul double %18, 5.000000e+00\n",
      "  %20 = fadd double %19, -1.000000e+00\n",
      "  ret double %20\n",
      "}\n"
     ]
    }
   ],
   "source": [
    "@code_llvm g(Float64(2.0))"
   ]
  },
  {
   "cell_type": "markdown",
   "metadata": {},
   "source": [
    "It appears that the compiler unrolls the loop."
   ]
  },
  {
   "cell_type": "code",
   "execution_count": null,
   "metadata": {
    "collapsed": true
   },
   "outputs": [],
   "source": [
    "3. Read Julia documentation on @fastmath and repeat the last question on the function"
   ]
  },
  {
   "cell_type": "code",
   "execution_count": 21,
   "metadata": {
    "collapsed": false
   },
   "outputs": [
    {
     "data": {
      "text/plain": [
       "g_fastmath (generic function with 1 method)"
      ]
     },
     "execution_count": 21,
     "metadata": {},
     "output_type": "execute_result"
    }
   ],
   "source": [
    "function g_fastmath(k)  \n",
    "    @fastmath for i = 1:10  \n",
    "        k = 5k - 1\n",
    "    end\n",
    "    k\n",
    "end"
   ]
  },
  {
   "cell_type": "code",
   "execution_count": 22,
   "metadata": {
    "collapsed": false
   },
   "outputs": [
    {
     "name": "stdout",
     "output_type": "stream",
     "text": [
      "\n",
      "define double @julia_g_fastmath_67303(double) #0 !dbg !5 {\n",
      "top:\n",
      "  %1 = fmul fast double %0, 9.765625e+06\n",
      "  %2 = fadd fast double %1, -2.441406e+06\n",
      "  ret double %2\n",
      "}\n"
     ]
    }
   ],
   "source": [
    "@code_llvm g_fastmath(Float64(2.0))"
   ]
  },
  {
   "cell_type": "markdown",
   "metadata": {},
   "source": [
    "Loop is not unrolled. But Use @fastmath allows floating point optimizations that are correct for real numbers, but lead to differences for IEEE numbers."
   ]
  }
 ],
 "metadata": {
  "kernelspec": {
   "display_name": "Julia 0.6.0-pre.alpha",
   "language": "julia",
   "name": "julia-0.6"
  },
  "language_info": {
   "file_extension": ".jl",
   "mimetype": "application/julia",
   "name": "julia",
   "version": "0.6.0"
  }
 },
 "nbformat": 4,
 "nbformat_minor": 1
}
