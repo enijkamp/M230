{
 "cells": [
  {
   "cell_type": "markdown",
   "metadata": {},
   "source": [
    "# Biostat M280 HW2\n",
    "Due 05/05\n",
    "## Q1\n",
    "**1)**"
   ]
  },
  {
   "cell_type": "code",
   "execution_count": 18,
   "metadata": {
    "collapsed": false
   },
   "outputs": [
    {
     "name": "stderr",
     "output_type": "stream",
     "text": [
      "WARNING: Method definition kinship(Array{Float64, 2}) in module Main at In[5]:3 overwritten at In[18]:2.\n"
     ]
    },
    {
     "data": {
      "text/plain": [
       "kinship (generic function with 1 method)"
      ]
     },
     "execution_count": 18,
     "metadata": {},
     "output_type": "execute_result"
    }
   ],
   "source": [
    "function kinship(X::Matrix{Float64})\n",
    "    (n,m) = size(X)\n",
    "    e = Array{Float64}(n,m)\n",
    "    for i = 1:n, j = 1:m\n",
    "        for k = 1:m\n",
    "            e[i,j] += X[i,k]*X[j,k]+(2-X[i,k])*(2-X[j,k])\n",
    "        end\n",
    "        e[i,j] /= 4\n",
    "    end\n",
    "\n",
    "    p = Array{Float64}(m)\n",
    "    for k = 1:m\n",
    "        p[k] = (1/2n)*sum(X[:,k])\n",
    "    end\n",
    "\n",
    "    sum_p = 0\n",
    "    for k = 1:m\n",
    "        sum_p += (p[k]^2 + (1- p[k])^2)\n",
    "    end\n",
    "\n",
    "    Phi = Array{Float64}(n,m)\n",
    "    for i = 1:n, j = 1:m\n",
    "        Phi[i,j] = (e[i,j]-sum_p) / (m - sum_p)\n",
    "    end\n",
    "    \n",
    "    return Phi\n",
    "end"
   ]
  },
  {
   "cell_type": "markdown",
   "metadata": {},
   "source": [
    "**2)**"
   ]
  },
  {
   "cell_type": "code",
   "execution_count": 21,
   "metadata": {
    "collapsed": false
   },
   "outputs": [
    {
     "name": "stderr",
     "output_type": "stream",
     "text": [
      "\u001b[1m\u001b[34mINFO: Precompiling module LegacyStrings.\n",
      "\u001b[0m\u001b[1m\u001b[34mINFO: Precompiling module JLD.\n",
      "\u001b[0m"
     ]
    },
    {
     "ename": "LoadError",
     "evalue": "BoundsError: attempt to access 1000×10000 Array{Float64,2} at index [1001,1]",
     "output_type": "error",
     "traceback": [
      "BoundsError: attempt to access 1000×10000 Array{Float64,2} at index [1001,1]",
      "",
      " in kinship(::Array{Float64,2}) at ./In[18]:6",
      " in ##core#275() at /opt/julia_packages/.julia/v0.5/BenchmarkTools/src/execution.jl:283",
      " in ##sample#276(::BenchmarkTools.Parameters) at /opt/julia_packages/.julia/v0.5/BenchmarkTools/src/execution.jl:289",
      " in #_run#1(::Bool, ::String, ::Array{Any,1}, ::Function, ::BenchmarkTools.Benchmark{Symbol(\"##benchmark#274\")}, ::BenchmarkTools.Parameters) at /opt/julia_packages/.julia/v0.5/BenchmarkTools/src/execution.jl:317",
      " in (::BenchmarkTools.#kw##_run)(::Array{Any,1}, ::BenchmarkTools.#_run, ::BenchmarkTools.Benchmark{Symbol(\"##benchmark#274\")}, ::BenchmarkTools.Parameters) at ./<missing>:0",
      " in anonymous at ./<missing>:?",
      " in #run_result#16(::Array{Any,1}, ::Function, ::BenchmarkTools.Benchmark{Symbol(\"##benchmark#274\")}, ::BenchmarkTools.Parameters) at /opt/julia_packages/.julia/v0.5/BenchmarkTools/src/execution.jl:33",
      " in (::BenchmarkTools.#kw##run_result)(::Array{Any,1}, ::BenchmarkTools.#run_result, ::BenchmarkTools.Benchmark{Symbol(\"##benchmark#274\")}, ::BenchmarkTools.Parameters) at ./<missing>:0",
      " in #run#17(::Array{Any,1}, ::Function, ::BenchmarkTools.Benchmark{Symbol(\"##benchmark#274\")}, ::BenchmarkTools.Parameters) at /opt/julia_packages/.julia/v0.5/BenchmarkTools/src/execution.jl:36",
      " in (::Base.#kw##run)(::Array{Any,1}, ::Base.#run, ::BenchmarkTools.Benchmark{Symbol(\"##benchmark#274\")}, ::BenchmarkTools.Parameters) at ./<missing>:0",
      " in warmup(::BenchmarkTools.Benchmark{Symbol(\"##benchmark#274\")}) at /opt/julia_packages/.julia/v0.5/BenchmarkTools/src/execution.jl:71"
     ]
    }
   ],
   "source": [
    "using BenchmarkTools\n",
    "srand(280)\n",
    "X = rand(0.0:2.0, 1000, 10000)\n",
    "@benchmark kinship(X)"
   ]
  },
  {
   "cell_type": "code",
   "execution_count": null,
   "metadata": {
    "collapsed": true
   },
   "outputs": [],
   "source": [
    "TODO"
   ]
  },
  {
   "cell_type": "markdown",
   "metadata": {},
   "source": [
    "## Q2"
   ]
  },
  {
   "cell_type": "markdown",
   "metadata": {},
   "source": [
    "**1) Sherman-Morrison**"
   ]
  },
  {
   "cell_type": "markdown",
   "metadata": {},
   "source": [
    "Show $L^{-1}=R\\Leftrightarrow LR=RL=I$. "
   ]
  },
  {
   "cell_type": "markdown",
   "metadata": {},
   "source": [
    "(1) $LR = I$."
   ]
  },
  {
   "cell_type": "markdown",
   "metadata": {},
   "source": [
    "$$\n",
    "\\begin{align}\n",
    "LR &= (A + uu^T)\\left( A^{-1} - {A^{-1} uu^T A^{-1} \\over 1 + u^T A^{-1}u}\\right) \\\\\n",
    "&= AA^{-1} +  uv^T A^{-1} - {AA^{-1}uv^T A^{-1} + uv^T A^{-1}uv^T A^{-1} \\over 1 + v^TA^{-1}u} \\\\\n",
    "&= I +  uv^T A^{-1} - {uv^T A^{-1} + uv^T A^{-1}uv^T A^{-1} \\over 1 + v^T A^{-1}u} \\\\\n",
    "&= I + uv^T A^{-1} - {u(1 + v^T A^{-1}u) v^T A^{-1} \\over 1 + v^T A^{-1}u} \\\\\n",
    "&= I + uv^T A^{-1} - uv^T A^{-1} \\\\\n",
    "&= I.\n",
    "\\end{align}\n",
    "$$"
   ]
  },
  {
   "cell_type": "markdown",
   "metadata": {},
   "source": [
    "(2) $RL = I$."
   ]
  },
  {
   "cell_type": "markdown",
   "metadata": {},
   "source": [
    "$$\n",
    "\\begin{align}\n",
    "RL &= \\left(A^{-1} - {A^{-1}uu^T A^{-1} \\over 1 + u^T A^{-1}u}\\right)(A + uu^T)\\\\\n",
    "&= I.\n",
    "\\end{align}\n",
    "$$"
   ]
  },
  {
   "cell_type": "markdown",
   "metadata": {},
   "source": [
    "QED."
   ]
  },
  {
   "cell_type": "markdown",
   "metadata": {},
   "source": [
    "**2) Woodbury**"
   ]
  },
  {
   "cell_type": "markdown",
   "metadata": {},
   "source": [
    "Apply binomial inverse theorem (3) with $B = I$. QED."
   ]
  },
  {
   "cell_type": "markdown",
   "metadata": {
    "collapsed": true
   },
   "source": [
    "**3) Binomial inversion**"
   ]
  },
  {
   "cell_type": "markdown",
   "metadata": {},
   "source": [
    "$$\n",
    "\\begin{align}\n",
    "(A+UBV^T)(A^{-1}-A^{-1}U(B^{-1}+V^TA^{-1}U)^{-1}V^TA^{-1}) &= I+UBV^TA^{-1}\n",
    "\\end{align}\n",
    "$$"
   ]
  },
  {
   "cell_type": "markdown",
   "metadata": {},
   "source": [
    "TODO"
   ]
  },
  {
   "cell_type": "markdown",
   "metadata": {},
   "source": [
    "QED."
   ]
  },
  {
   "cell_type": "markdown",
   "metadata": {},
   "source": [
    "**4) **"
   ]
  },
  {
   "cell_type": "markdown",
   "metadata": {},
   "source": [
    "$$\n",
    "\\begin{align}\n",
    "\\det(A+UV^T)&=\\det A \\det(I+A^{-1}UV^T)\\\\\n",
    "&=\\det A \\det\\left(\\begin{array}{cc}\n",
    "I & V^{T}\\\\\n",
    "-A^{-1} & I\n",
    "\\end{array}\\right) \\\\\n",
    "&= \\det A \\det (I+V^TA^{-1}U).\n",
    "\\end{align}\n",
    "$$"
   ]
  },
  {
   "cell_type": "markdown",
   "metadata": {},
   "source": [
    " QED."
   ]
  },
  {
   "cell_type": "code",
   "execution_count": null,
   "metadata": {
    "collapsed": true
   },
   "outputs": [],
   "source": []
  }
 ],
 "metadata": {
  "kernelspec": {
   "display_name": "Julia 0.5.1",
   "language": "julia",
   "name": "julia-0.5"
  },
  "language_info": {
   "file_extension": ".jl",
   "mimetype": "application/julia",
   "name": "julia",
   "version": "0.5.1"
  }
 },
 "nbformat": 4,
 "nbformat_minor": 1
}
