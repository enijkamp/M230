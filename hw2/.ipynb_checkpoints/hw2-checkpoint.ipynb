{
 "cells": [
  {
   "cell_type": "markdown",
   "metadata": {},
   "source": [
    "# Biostat M280 HW2\n",
    "Due 05/05\n",
    "\n",
    "Julia Cheatsheet\n",
    "https://cheatsheets.quantecon.org/julia-cheatsheet.html\n",
    "\n",
    "## Q1\n",
    "**1) Implement Kinship estimator.**"
   ]
  },
  {
   "cell_type": "markdown",
   "metadata": {},
   "source": [
    "First, we aim to optimize the computation of $e_{ij}$."
   ]
  },
  {
   "cell_type": "code",
   "execution_count": 1,
   "metadata": {
    "collapsed": false
   },
   "outputs": [
    {
     "data": {
      "text/plain": [
       "e3 (generic function with 1 method)"
      ]
     },
     "execution_count": 1,
     "metadata": {},
     "output_type": "execute_result"
    }
   ],
   "source": [
    "# variant 1: loops to check correctness (slow? yes)\n",
    "function e1(X::Matrix{Float64})\n",
    "    (n,m) = size(X)\n",
    "    e = zeros(X)\n",
    "    for i = 1:n, j = 1:n\n",
    "        for k = 1:m\n",
    "            e[i,j] += 0.25 * (X[i,k]*X[j,k]+(2-X[i,k])*(2-X[j,k]))\n",
    "        end\n",
    "    end\n",
    "    return e\n",
    "end\n",
    "\n",
    "# variant 2: vectorized (fast? no, actually slow)\n",
    "function e2(X::Matrix{Float64})\n",
    "    (n,m) = size(X)\n",
    "    e = zeros(X)\n",
    "    X2 = (2 - X)\n",
    "    for i = 1:n, j = 1:n\n",
    "        xx = (X[i,:]' * X[j,:])[1]\n",
    "        xx2 = (X2[i,:]' * X2[j,:])[1]\n",
    "        e[i,j] = 0.25 .* (xx + xx2)\n",
    "    end\n",
    "    return e\n",
    "end\n",
    "\n",
    "# variant 3: matrix ops (very fast? yes)\n",
    "function e3(X::Matrix{Float64})\n",
    "    return 0.25 .* (X * X' + (2 - X) * (2 - X)')\n",
    "end"
   ]
  },
  {
   "cell_type": "code",
   "execution_count": 2,
   "metadata": {
    "collapsed": false
   },
   "outputs": [
    {
     "data": {
      "text/plain": [
       "\"0 differences\""
      ]
     },
     "execution_count": 2,
     "metadata": {},
     "output_type": "execute_result"
    }
   ],
   "source": [
    "srand(1234)\n",
    "X = rand(0.0:2.0, 10, 10)\n",
    "e1(X)\n",
    "string(sum(abs(e1(X) - e2(X)) .> 10e-5)) * \" differences\""
   ]
  },
  {
   "cell_type": "code",
   "execution_count": 3,
   "metadata": {
    "collapsed": false
   },
   "outputs": [
    {
     "data": {
      "text/plain": [
       "\"0 differences\""
      ]
     },
     "execution_count": 3,
     "metadata": {},
     "output_type": "execute_result"
    }
   ],
   "source": [
    "string(sum(abs(e1(X) - e3(X)) .> 10e-5)) * \" differences\""
   ]
  },
  {
   "cell_type": "code",
   "execution_count": 4,
   "metadata": {
    "collapsed": false
   },
   "outputs": [
    {
     "data": {
      "text/plain": [
       "BenchmarkTools.Trial: \n",
       "  memory estimate:  78.20 KiB\n",
       "  allocs estimate:  2\n",
       "  --------------\n",
       "  minimum time:     3.211 ms (0.00% GC)\n",
       "  median time:      3.253 ms (0.00% GC)\n",
       "  mean time:        3.291 ms (0.10% GC)\n",
       "  maximum time:     5.895 ms (0.00% GC)\n",
       "  --------------\n",
       "  samples:          1513\n",
       "  evals/sample:     1"
      ]
     },
     "execution_count": 4,
     "metadata": {},
     "output_type": "execute_result"
    }
   ],
   "source": [
    "using BenchmarkTools\n",
    "srand(280)\n",
    "X = rand(0.0:2.0, 100, 100)\n",
    "@benchmark e1(X)"
   ]
  },
  {
   "cell_type": "code",
   "execution_count": 5,
   "metadata": {
    "collapsed": false
   },
   "outputs": [
    {
     "data": {
      "text/plain": [
       "BenchmarkTools.Trial: \n",
       "  memory estimate:  36.47 MiB\n",
       "  allocs estimate:  80004\n",
       "  --------------\n",
       "  minimum time:     12.080 ms (12.84% GC)\n",
       "  median time:      15.555 ms (22.05% GC)\n",
       "  mean time:        17.161 ms (21.02% GC)\n",
       "  maximum time:     93.667 ms (85.58% GC)\n",
       "  --------------\n",
       "  samples:          291\n",
       "  evals/sample:     1"
      ]
     },
     "execution_count": 5,
     "metadata": {},
     "output_type": "execute_result"
    }
   ],
   "source": [
    "using BenchmarkTools\n",
    "srand(280)\n",
    "X = rand(0.0:2.0, 100, 100)\n",
    "@benchmark e2(X)"
   ]
  },
  {
   "cell_type": "code",
   "execution_count": 6,
   "metadata": {
    "collapsed": false
   },
   "outputs": [
    {
     "data": {
      "text/plain": [
       "BenchmarkTools.Trial: \n",
       "  memory estimate:  469.22 KiB\n",
       "  allocs estimate:  12\n",
       "  --------------\n",
       "  minimum time:     191.685 μs (0.00% GC)\n",
       "  median time:      259.976 μs (0.00% GC)\n",
       "  mean time:        301.669 μs (7.23% GC)\n",
       "  maximum time:     5.129 ms (0.00% GC)\n",
       "  --------------\n",
       "  samples:          10000\n",
       "  evals/sample:     1"
      ]
     },
     "execution_count": 6,
     "metadata": {},
     "output_type": "execute_result"
    }
   ],
   "source": [
    "using BenchmarkTools\n",
    "srand(280)\n",
    "X = rand(0.0:2.0, 100, 100)\n",
    "@benchmark e3(X)"
   ]
  },
  {
   "cell_type": "markdown",
   "metadata": {},
   "source": [
    "Now we optimize the computation of $\\hat{\\Phi}$."
   ]
  },
  {
   "cell_type": "code",
   "execution_count": 7,
   "metadata": {
    "collapsed": false
   },
   "outputs": [
    {
     "data": {
      "text/plain": [
       "kinship1 (generic function with 1 method)"
      ]
     },
     "execution_count": 7,
     "metadata": {},
     "output_type": "execute_result"
    }
   ],
   "source": [
    "# variant 1: loops (slow? yes)\n",
    "function kinship1(X::Matrix{Float64})\n",
    "    (n,m) = size(X)\n",
    "    e = e3(X)\n",
    "\n",
    "    p = zeros(Float64, m)\n",
    "    for k = 1:m\n",
    "        p[k] = (1/(2*n))*sum(X[:,k])\n",
    "    end\n",
    "\n",
    "    sum_p = 0\n",
    "    for k = 1:m\n",
    "        sum_p += (p[k]^2 + (1- p[k])^2)\n",
    "    end\n",
    "\n",
    "    Phi = zeros(Float64, (n,n))\n",
    "    for i = 1:n, j = 1:n\n",
    "        Phi[i,j] = (e[i,j]-sum_p) / (m - sum_p)\n",
    "    end\n",
    "    \n",
    "    return Phi\n",
    "end"
   ]
  },
  {
   "cell_type": "code",
   "execution_count": 8,
   "metadata": {
    "collapsed": false
   },
   "outputs": [
    {
     "data": {
      "text/plain": [
       "kinship2 (generic function with 1 method)"
      ]
     },
     "execution_count": 8,
     "metadata": {},
     "output_type": "execute_result"
    }
   ],
   "source": [
    "# variant 2: avoid loops (faster? yes)\n",
    "function kinship2(X::Matrix{Float64})\n",
    "    (n,m) = size(X)\n",
    "    e = e3(X)\n",
    "    p = (1/(2*n)) * sum(X, 1)\n",
    "    sum_p = m + 2*sum(p.^2 - p) # expand p^2 + (1 - p)^2 and simplify\n",
    "    Phi = (e - sum_p) ./ (m - sum_p) \n",
    "    return Phi\n",
    "end"
   ]
  },
  {
   "cell_type": "code",
   "execution_count": 9,
   "metadata": {
    "collapsed": false
   },
   "outputs": [
    {
     "data": {
      "text/plain": [
       "BenchmarkTools.Trial: \n",
       "  memory estimate:  360.48 MiB\n",
       "  allocs estimate:  6049505\n",
       "  --------------\n",
       "  minimum time:     843.138 ms (17.51% GC)\n",
       "  median time:      958.979 ms (16.49% GC)\n",
       "  mean time:        1.002 s (23.20% GC)\n",
       "  maximum time:     1.355 s (38.81% GC)\n",
       "  --------------\n",
       "  samples:          5\n",
       "  evals/sample:     1"
      ]
     },
     "execution_count": 9,
     "metadata": {},
     "output_type": "execute_result"
    }
   ],
   "source": [
    "using BenchmarkTools\n",
    "srand(280)\n",
    "X = rand(0.0:2.0, 1000, 10000)\n",
    "@benchmark kinship1(X)"
   ]
  },
  {
   "cell_type": "code",
   "execution_count": 22,
   "metadata": {
    "collapsed": false
   },
   "outputs": [
    {
     "data": {
      "text/plain": [
       "BenchmarkTools.Trial: \n",
       "  memory estimate:  198.67 MiB\n",
       "  allocs estimate:  27\n",
       "  --------------\n",
       "  minimum time:     368.366 ms (2.70% GC)\n",
       "  median time:      506.146 ms (7.29% GC)\n",
       "  mean time:        500.862 ms (13.87% GC)\n",
       "  maximum time:     642.811 ms (27.00% GC)\n",
       "  --------------\n",
       "  samples:          10\n",
       "  evals/sample:     1"
      ]
     },
     "execution_count": 22,
     "metadata": {},
     "output_type": "execute_result"
    }
   ],
   "source": [
    "using BenchmarkTools\n",
    "srand(280)\n",
    "X = rand(0.0:2.0, 1000, 10000)\n",
    "@benchmark kinship2(X)"
   ]
  },
  {
   "cell_type": "markdown",
   "metadata": {},
   "source": [
    "**2) Benchmark your implementation. **"
   ]
  },
  {
   "cell_type": "code",
   "execution_count": 33,
   "metadata": {
    "collapsed": false
   },
   "outputs": [
    {
     "data": {
      "text/plain": [
       "BenchmarkTools.Trial: \n",
       "  memory estimate:  198.67 MiB\n",
       "  allocs estimate:  27\n",
       "  --------------\n",
       "  minimum time:     334.318 ms (1.35% GC)\n",
       "  median time:      413.373 ms (8.16% GC)\n",
       "  mean time:        464.584 ms (14.96% GC)\n",
       "  maximum time:     688.434 ms (26.77% GC)\n",
       "  --------------\n",
       "  samples:          11\n",
       "  evals/sample:     1"
      ]
     },
     "execution_count": 33,
     "metadata": {},
     "output_type": "execute_result"
    }
   ],
   "source": [
    "using BenchmarkTools\n",
    "srand(280)\n",
    "X = rand(0.0:2.0, 1000, 10000)\n",
    "@benchmark kinship2(X)"
   ]
  },
  {
   "cell_type": "markdown",
   "metadata": {},
   "source": [
    "We achieve a minimum time of 335ms using 200MiB memory. Note that this benchmark was executed on a juliabox.com instance (possibly shared by multiple virtual enviroments / users)."
   ]
  },
  {
   "cell_type": "code",
   "execution_count": 12,
   "metadata": {
    "collapsed": false
   },
   "outputs": [
    {
     "name": "stdout",
     "output_type": "stream",
     "text": [
      "Julia Version 0.5.1\n",
      "Commit 6445c82 (2017-03-05 13:25 UTC)\n",
      "Platform Info:\n",
      "  OS: Linux (x86_64-pc-linux-gnu)\n",
      "  CPU: Intel(R) Xeon(R) CPU @ 2.60GHz\n",
      "  WORD_SIZE: 64\n",
      "  BLAS: libopenblas (USE64BITINT DYNAMIC_ARCH NO_AFFINITY Sandybridge)\n",
      "  LAPACK: libopenblas64_\n",
      "  LIBM: libopenlibm\n",
      "  LLVM: libLLVM-3.7.1 (ORCJIT, sandybridge)\n"
     ]
    }
   ],
   "source": [
    "versioninfo()"
   ]
  },
  {
   "cell_type": "markdown",
   "metadata": {},
   "source": [
    "## Q2"
   ]
  },
  {
   "cell_type": "markdown",
   "metadata": {},
   "source": [
    "**1) Sherman-Morrison**"
   ]
  },
  {
   "cell_type": "markdown",
   "metadata": {},
   "source": [
    "Show $L^{-1}=R\\Leftrightarrow LR=RL=I$. "
   ]
  },
  {
   "cell_type": "markdown",
   "metadata": {},
   "source": [
    "(1) $LR = I$."
   ]
  },
  {
   "cell_type": "markdown",
   "metadata": {},
   "source": [
    "$$\n",
    "\\begin{align}\n",
    "LR &= (A + uu^T)\\left( A^{-1} - {A^{-1} uu^T A^{-1} \\over 1 + u^T A^{-1}u}\\right) \\\\\n",
    "&= AA^{-1} +  uv^T A^{-1} - {AA^{-1}uv^T A^{-1} + uv^T A^{-1}uv^T A^{-1} \\over 1 + v^TA^{-1}u} \\\\\n",
    "&= I +  uv^T A^{-1} - {uv^T A^{-1} + uv^T A^{-1}uv^T A^{-1} \\over 1 + v^T A^{-1}u} \\\\\n",
    "&= I + uv^T A^{-1} - {u(1 + v^T A^{-1}u) v^T A^{-1} \\over 1 + v^T A^{-1}u} \\\\\n",
    "&= I + uv^T A^{-1} - uv^T A^{-1} \\\\\n",
    "&= I.\n",
    "\\end{align}\n",
    "$$"
   ]
  },
  {
   "cell_type": "markdown",
   "metadata": {},
   "source": [
    "(2) $RL = I$."
   ]
  },
  {
   "cell_type": "markdown",
   "metadata": {},
   "source": [
    "$$\n",
    "\\begin{align}\n",
    "RL &= \\left(A^{-1} - {A^{-1}uu^T A^{-1} \\over 1 + u^T A^{-1}u}\\right)(A + uu^T)\\\\\n",
    "&= I.\n",
    "\\end{align}\n",
    "$$"
   ]
  },
  {
   "cell_type": "markdown",
   "metadata": {},
   "source": [
    "QED."
   ]
  },
  {
   "cell_type": "markdown",
   "metadata": {},
   "source": [
    "**2) Woodbury**"
   ]
  },
  {
   "cell_type": "markdown",
   "metadata": {},
   "source": [
    "Apply binomial inverse theorem (3) with $B = I$. QED."
   ]
  },
  {
   "cell_type": "markdown",
   "metadata": {
    "collapsed": true
   },
   "source": [
    "**3) Binomial inversion**"
   ]
  },
  {
   "cell_type": "markdown",
   "metadata": {},
   "source": [
    "$$\n",
    "\\begin{align}\n",
    "&(A+UBV^T)(A^{-1}-A^{-1}U(B^{-1}+V^TA^{-1}U)^{-1}V^TA^{-1})\\\\\n",
    "&= (A+UBV^T)(A^{-1}-A^{-1}UB(B+V^TA^{-1}UB)^{-1}BV^TA^{-1})\\\\\n",
    "&= (A+UBV^T)(A^{-1})-((A+UBV^T)(A^{-1})(UB(B+V^TA^{-1}UB)^{-1}BV^TA^{-1})\\\\\n",
    "&= (A+UBV^T)(A^{-1})-((A+UBV^T)(A^{-1}UB)(B+V^TA^{-1}UB)^{-1}BV^TA^{-1})\\\\\n",
    "&= (A+UBV^T)(A^{-1})-(U(B+BV^TA^{-1}UB))(B+V^TA^{-1}UB)^{-1}BV^TA^{-1})\\\\\n",
    "&= I+UBV^TA^{-1}-U(B+BV^TA^{-1}UB)(B+BV^TA^{-1}UB)^{-1}BV^TA^{-1}\\\\\n",
    "&= I+UBV^TA^{-1}-UBV^TA^{-1}\\\\\n",
    "&=I.\n",
    "\\end{align}\n",
    "$$"
   ]
  },
  {
   "cell_type": "markdown",
   "metadata": {},
   "source": [
    "QED."
   ]
  },
  {
   "cell_type": "markdown",
   "metadata": {},
   "source": [
    "**4) **\n",
    "Recall Sylvester's determinant theorem\n",
    "$$\n",
    "\\det(I_m+AB)=\\det(I_n+BA).\n",
    "$$"
   ]
  },
  {
   "cell_type": "markdown",
   "metadata": {},
   "source": [
    "Observe\n",
    "$$\n",
    "\\det(X+AB)=\\det(X)\\det(I_n+BX^{-1}A).\n",
    "$$\n",
    "Apply"
   ]
  },
  {
   "cell_type": "markdown",
   "metadata": {},
   "source": [
    "$$\n",
    "\\begin{align}\n",
    "\\det(A+UV^T)&=\\det A \\det(I_n+A^{-1}UV^T)\\\\\n",
    "&=\\det A \\det\\left(\\begin{array}{cc}\n",
    "I & V^{T}\\\\\n",
    "-A^{-1} & I\n",
    "\\end{array}\\right) \\\\\n",
    "&= \\det A \\det (I_m+V^TA^{-1}U).\n",
    "\\end{align}\n",
    "$$"
   ]
  },
  {
   "cell_type": "markdown",
   "metadata": {},
   "source": [
    " QED."
   ]
  },
  {
   "cell_type": "markdown",
   "metadata": {
    "collapsed": true
   },
   "source": [
    "## Q3\n",
    "We know\n",
    "$$\n",
    "y_i=x_i^T\\beta+z_i^T\\gamma + \\epsilon_i\n",
    "$$\n",
    "where $\\epsilon\\sim N(0,\\sigma_0^2)$ and $\\gamma\\sim N(0_q,\\sigma_1^2I_q)$."
   ]
  },
  {
   "cell_type": "markdown",
   "metadata": {},
   "source": [
    "**1) Show **\n",
    "$$\n",
    "y \\sim N(X\\beta,\\sigma_0^2\\cdot I+\\sigma_1^2ZZ^T).\n",
    "$$\n",
    "Note that the sum of normally distributed random variables is normally distributed. Observe\n",
    "$$\n",
    "\\begin{aligned}\n",
    "E(y) &= E(X\\beta+Z\\gamma+\\epsilon) \\\\\n",
    "     &= X\\beta+Z E(\\gamma)+E(\\epsilon) \\\\\n",
    "     & = X\\beta\n",
    "\\end{aligned}.\n",
    "$$\n",
    "And\n",
    "$$\n",
    "\\begin{aligned}\n",
    "Var(y) &= Var(X\\beta+Z\\gamma+\\epsilon) \\\\\n",
    "&=Var(X\\beta)+ZVar(\\gamma)Z^T+Var(\\epsilon)+2Cov(X\\beta,Z\\gamma)+2Cov(X\\beta,\\epsilon)+2Cov(Z\\gamma,\\epsilon)\\\\\n",
    "&=\\sigma_1^2ZZ^T+\\sigma_0^2I.\n",
    "\\end{aligned}\n",
    "$$\n",
    "QED."
   ]
  },
  {
   "cell_type": "markdown",
   "metadata": {},
   "source": [
    "**2) Implement function logpdf.**"
   ]
  },
  {
   "cell_type": "code",
   "execution_count": 13,
   "metadata": {
    "collapsed": false
   },
   "outputs": [
    {
     "data": {
      "text/plain": [
       "logpdf_mvn (generic function with 1 method)"
      ]
     },
     "execution_count": 13,
     "metadata": {},
     "output_type": "execute_result"
    }
   ],
   "source": [
    "function logpdf_mvn(y::Vector, Z::Matrix, sigma0, sigma1)\n",
    "    sigma = sigma0^2 * I + sigma1^2 * Z * Z'\n",
    "    n = length(y)\n",
    "    sigmachol = cholfact(sigma)\n",
    "    - (n//2) * log(2π) - (1//2) * logdet(sigmachol) - (1//2) * sumabs2(sigmachol[:L] \\ y)\n",
    "end"
   ]
  },
  {
   "cell_type": "markdown",
   "metadata": {},
   "source": [
    "**3) Benchmark your result.**"
   ]
  },
  {
   "cell_type": "code",
   "execution_count": 14,
   "metadata": {
    "collapsed": false
   },
   "outputs": [
    {
     "name": "stdout",
     "output_type": "stream",
     "text": [
      "logpdf_mvn(y,Z,sigma0,sigma1) = -1571.5736734654183\n",
      "logpdf(mvn,y) = -1571.5736734654186\n"
     ]
    },
    {
     "data": {
      "text/plain": [
       "BenchmarkTools.Trial: \n",
       "  memory estimate:  122.39 MiB\n",
       "  allocs estimate:  25\n",
       "  --------------\n",
       "  minimum time:     171.113 ms (23.83% GC)\n",
       "  median time:      217.344 ms (33.17% GC)\n",
       "  mean time:        229.807 ms (33.25% GC)\n",
       "  maximum time:     343.878 ms (38.90% GC)\n",
       "  --------------\n",
       "  samples:          22\n",
       "  evals/sample:     1"
      ]
     },
     "execution_count": 14,
     "metadata": {},
     "output_type": "execute_result"
    }
   ],
   "source": [
    "using BenchmarkTools, Distributions\n",
    "\n",
    "srand(280)\n",
    "\n",
    "n, q = 2000, 10\n",
    "Z = randn(n, q)\n",
    "sigma0, sigma1 = 0.5, 2.0\n",
    "\n",
    "sigma = sigma1^2 * Z * Z' + sigma0^2 * I\n",
    "mvn = MvNormal(sigma)\n",
    "y   = rand(mvn)\n",
    "\n",
    "# check you answer matches that from Distributions.jl\n",
    "@show logpdf_mvn(y, Z, sigma0, sigma1)\n",
    "@show logpdf(mvn, y)\n",
    "\n",
    "# benchmark\n",
    "@benchmark logpdf_mvn(y, Z, sigma0, sigma1)"
   ]
  },
  {
   "cell_type": "code",
   "execution_count": 15,
   "metadata": {
    "collapsed": false
   },
   "outputs": [
    {
     "data": {
      "text/plain": [
       "BenchmarkTools.Trial: \n",
       "  memory estimate:  15.78 KiB\n",
       "  allocs estimate:  3\n",
       "  --------------\n",
       "  minimum time:     9.624 ms (0.00% GC)\n",
       "  median time:      13.829 ms (0.00% GC)\n",
       "  mean time:        14.273 ms (0.00% GC)\n",
       "  maximum time:     40.516 ms (0.00% GC)\n",
       "  --------------\n",
       "  samples:          349\n",
       "  evals/sample:     1"
      ]
     },
     "execution_count": 15,
     "metadata": {},
     "output_type": "execute_result"
    }
   ],
   "source": [
    "@benchmark logpdf(mvn, y)"
   ]
  }
 ],
 "metadata": {
  "kernelspec": {
   "display_name": "Julia 0.5.1",
   "language": "julia",
   "name": "julia-0.5"
  },
  "language_info": {
   "file_extension": ".jl",
   "mimetype": "application/julia",
   "name": "julia",
   "version": "0.5.1"
  }
 },
 "nbformat": 4,
 "nbformat_minor": 1
}
