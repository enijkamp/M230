{
 "cells": [
  {
   "cell_type": "markdown",
   "metadata": {},
   "source": [
    "# Biostat M280 HW2\n",
    "Due 05/05\n",
    "## Q1\n",
    "1."
   ]
  },
  {
   "cell_type": "code",
   "execution_count": 18,
   "metadata": {
    "collapsed": false
   },
   "outputs": [
    {
     "name": "stderr",
     "output_type": "stream",
     "text": [
      "WARNING: Method definition kinship(Array{Float64, 2}) in module Main at In[5]:3 overwritten at In[18]:2.\n"
     ]
    },
    {
     "data": {
      "text/plain": [
       "kinship (generic function with 1 method)"
      ]
     },
     "execution_count": 18,
     "metadata": {},
     "output_type": "execute_result"
    }
   ],
   "source": [
    "function kinship(X::Matrix{Float64})\n",
    "    (n,m) = size(X)\n",
    "    e = Array{Float64}(n,m)\n",
    "    for i = 1:n, j = 1:m\n",
    "        for k = 1:m\n",
    "            e[i,j] += X[i,k]*X[j,k]+(2-X[i,k])*(2-X[j,k])\n",
    "        end\n",
    "        e[i,j] /= 4\n",
    "    end\n",
    "\n",
    "    p = Array{Float64}(m)\n",
    "    for k = 1:m\n",
    "        p[k] = (1/2n)*sum(X[:,k])\n",
    "    end\n",
    "\n",
    "    sum_p = 0\n",
    "    for k = 1:m\n",
    "        sum_p += (p[k]^2 + (1- p[k])^2)\n",
    "    end\n",
    "\n",
    "    Phi = Array{Float64}(n,m)\n",
    "    for i = 1:n, j = 1:m\n",
    "        Phi[i,j] = (e[i,j]-sum_p) / (m - sum_p)\n",
    "    end\n",
    "    \n",
    "    return Phi\n",
    "end"
   ]
  },
  {
   "cell_type": "code",
   "execution_count": 21,
   "metadata": {
    "collapsed": false
   },
   "outputs": [
    {
     "name": "stderr",
     "output_type": "stream",
     "text": [
      "\u001b[1m\u001b[34mINFO: Precompiling module LegacyStrings.\n",
      "\u001b[0m\u001b[1m\u001b[34mINFO: Precompiling module JLD.\n",
      "\u001b[0m"
     ]
    },
    {
     "ename": "LoadError",
     "evalue": "BoundsError: attempt to access 1000×10000 Array{Float64,2} at index [1001,1]",
     "output_type": "error",
     "traceback": [
      "BoundsError: attempt to access 1000×10000 Array{Float64,2} at index [1001,1]",
      "",
      " in kinship(::Array{Float64,2}) at ./In[18]:6",
      " in ##core#275() at /opt/julia_packages/.julia/v0.5/BenchmarkTools/src/execution.jl:283",
      " in ##sample#276(::BenchmarkTools.Parameters) at /opt/julia_packages/.julia/v0.5/BenchmarkTools/src/execution.jl:289",
      " in #_run#1(::Bool, ::String, ::Array{Any,1}, ::Function, ::BenchmarkTools.Benchmark{Symbol(\"##benchmark#274\")}, ::BenchmarkTools.Parameters) at /opt/julia_packages/.julia/v0.5/BenchmarkTools/src/execution.jl:317",
      " in (::BenchmarkTools.#kw##_run)(::Array{Any,1}, ::BenchmarkTools.#_run, ::BenchmarkTools.Benchmark{Symbol(\"##benchmark#274\")}, ::BenchmarkTools.Parameters) at ./<missing>:0",
      " in anonymous at ./<missing>:?",
      " in #run_result#16(::Array{Any,1}, ::Function, ::BenchmarkTools.Benchmark{Symbol(\"##benchmark#274\")}, ::BenchmarkTools.Parameters) at /opt/julia_packages/.julia/v0.5/BenchmarkTools/src/execution.jl:33",
      " in (::BenchmarkTools.#kw##run_result)(::Array{Any,1}, ::BenchmarkTools.#run_result, ::BenchmarkTools.Benchmark{Symbol(\"##benchmark#274\")}, ::BenchmarkTools.Parameters) at ./<missing>:0",
      " in #run#17(::Array{Any,1}, ::Function, ::BenchmarkTools.Benchmark{Symbol(\"##benchmark#274\")}, ::BenchmarkTools.Parameters) at /opt/julia_packages/.julia/v0.5/BenchmarkTools/src/execution.jl:36",
      " in (::Base.#kw##run)(::Array{Any,1}, ::Base.#run, ::BenchmarkTools.Benchmark{Symbol(\"##benchmark#274\")}, ::BenchmarkTools.Parameters) at ./<missing>:0",
      " in warmup(::BenchmarkTools.Benchmark{Symbol(\"##benchmark#274\")}) at /opt/julia_packages/.julia/v0.5/BenchmarkTools/src/execution.jl:71"
     ]
    }
   ],
   "source": [
    "using BenchmarkTools\n",
    "srand(280)\n",
    "X = rand(0.0:2.0, 1000, 10000)\n",
    "@benchmark kinship(X)"
   ]
  },
  {
   "cell_type": "markdown",
   "metadata": {},
   "source": [
    "## Q2\n",
    "1."
   ]
  },
  {
   "cell_type": "code",
   "execution_count": null,
   "metadata": {
    "collapsed": true
   },
   "outputs": [],
   "source": []
  }
 ],
 "metadata": {
  "kernelspec": {
   "display_name": "Julia 0.5.1",
   "language": "julia",
   "name": "julia-0.5"
  },
  "language_info": {
   "file_extension": ".jl",
   "mimetype": "application/julia",
   "name": "julia",
   "version": "0.5.1"
  }
 },
 "nbformat": 4,
 "nbformat_minor": 1
}
