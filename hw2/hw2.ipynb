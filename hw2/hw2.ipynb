{
 "cells": [
  {
   "cell_type": "markdown",
   "metadata": {},
   "source": [
    "# Biostat M280 HW2\n",
    "Due 05/05\n",
    "\n",
    "Julia Cheatsheet\n",
    "https://cheatsheets.quantecon.org/julia-cheatsheet.html\n",
    "\n",
    "## Q1\n",
    "**1)**"
   ]
  },
  {
   "cell_type": "markdown",
   "metadata": {},
   "source": [
    "First, we aim to optimize the computation of $e_{ij}$."
   ]
  },
  {
   "cell_type": "code",
   "execution_count": 248,
   "metadata": {
    "collapsed": false
   },
   "outputs": [
    {
     "name": "stderr",
     "output_type": "stream",
     "text": [
      "WARNING: Method definition e1(Array{Float64, 2}) in module Main at In[246]:3 overwritten at In[248]:3.\n",
      "WARNING: Method definition e2(Array{Float64, 2}) in module Main at In[246]:15 overwritten at In[248]:15.\n",
      "WARNING: Method definition e3(Array{Float64, 2}) in module Main at In[246]:28 overwritten at In[248]:28.\n"
     ]
    },
    {
     "data": {
      "text/plain": [
       "e3 (generic function with 1 method)"
      ]
     },
     "execution_count": 248,
     "metadata": {},
     "output_type": "execute_result"
    }
   ],
   "source": [
    "# variant 1: loops to check correctness (slow? yes)\n",
    "function e1(X::Matrix{Float64})\n",
    "    (n,m) = size(X)\n",
    "    e = zeros(X)\n",
    "    for i = 1:n, j = 1:n\n",
    "        for k = 1:m\n",
    "            e[i,j] += 0.25 * (X[i,k]*X[j,k]+(2-X[i,k])*(2-X[j,k]))\n",
    "        end\n",
    "    end\n",
    "    return e\n",
    "end\n",
    "\n",
    "# variant 2: vectorized (fast? no, actually slow)\n",
    "function e2(X::Matrix{Float64})\n",
    "    (n,m) = size(X)\n",
    "    e = zeros(X)\n",
    "    X2 = (2 - X)\n",
    "    for i = 1:n, j = 1:n\n",
    "        xx = (X[i,:]' * X[j,:])[1]\n",
    "        xx2 = (X2[i,:]' * X2[j,:])[1]\n",
    "        e[i,j] = 0.25 .* (xx + xx2)\n",
    "    end\n",
    "    return e\n",
    "end\n",
    "\n",
    "# variant 3: matrix ops (very fast? yes)\n",
    "function e3(X::Matrix{Float64})\n",
    "    return 0.25 .* (X * X' + (2 - X) * (2 - X)')\n",
    "end"
   ]
  },
  {
   "cell_type": "code",
   "execution_count": 216,
   "metadata": {
    "collapsed": false
   },
   "outputs": [
    {
     "data": {
      "text/plain": [
       "\"0 differences\""
      ]
     },
     "execution_count": 216,
     "metadata": {},
     "output_type": "execute_result"
    }
   ],
   "source": [
    "srand(1234)\n",
    "X = rand(0.0:2.0, 10, 10)\n",
    "e1(X)\n",
    "string(sum(abs(e1(X) - e2(X)) .> 10e-5)) * \" differences\""
   ]
  },
  {
   "cell_type": "code",
   "execution_count": 217,
   "metadata": {
    "collapsed": false
   },
   "outputs": [
    {
     "data": {
      "text/plain": [
       "\"0 differences\""
      ]
     },
     "execution_count": 217,
     "metadata": {},
     "output_type": "execute_result"
    }
   ],
   "source": [
    "string(sum(abs(e1(X) - e3(X)) .> 10e-5)) * \" differences\""
   ]
  },
  {
   "cell_type": "code",
   "execution_count": 218,
   "metadata": {
    "collapsed": false
   },
   "outputs": [
    {
     "data": {
      "text/plain": [
       "BenchmarkTools.Trial: \n",
       "  memory estimate:  78.20 KiB\n",
       "  allocs estimate:  2\n",
       "  --------------\n",
       "  minimum time:     3.215 ms (0.00% GC)\n",
       "  median time:      3.290 ms (0.00% GC)\n",
       "  mean time:        3.325 ms (0.11% GC)\n",
       "  maximum time:     4.544 ms (26.08% GC)\n",
       "  --------------\n",
       "  samples:          1501\n",
       "  evals/sample:     1"
      ]
     },
     "execution_count": 218,
     "metadata": {},
     "output_type": "execute_result"
    }
   ],
   "source": [
    "using BenchmarkTools\n",
    "srand(280)\n",
    "X = rand(0.0:2.0, 100, 100)\n",
    "@benchmark e1(X)"
   ]
  },
  {
   "cell_type": "code",
   "execution_count": 219,
   "metadata": {
    "collapsed": false
   },
   "outputs": [
    {
     "data": {
      "text/plain": [
       "BenchmarkTools.Trial: \n",
       "  memory estimate:  36.47 MiB\n",
       "  allocs estimate:  80004\n",
       "  --------------\n",
       "  minimum time:     8.252 ms (8.31% GC)\n",
       "  median time:      9.441 ms (16.10% GC)\n",
       "  mean time:        9.681 ms (16.03% GC)\n",
       "  maximum time:     84.771 ms (82.69% GC)\n",
       "  --------------\n",
       "  samples:          516\n",
       "  evals/sample:     1"
      ]
     },
     "execution_count": 219,
     "metadata": {},
     "output_type": "execute_result"
    }
   ],
   "source": [
    "using BenchmarkTools\n",
    "srand(280)\n",
    "X = rand(0.0:2.0, 100, 100)\n",
    "@benchmark e2(X)"
   ]
  },
  {
   "cell_type": "code",
   "execution_count": 220,
   "metadata": {
    "collapsed": false
   },
   "outputs": [
    {
     "data": {
      "text/plain": [
       "BenchmarkTools.Trial: \n",
       "  memory estimate:  547.42 KiB\n",
       "  allocs estimate:  14\n",
       "  --------------\n",
       "  minimum time:     140.440 μs (0.00% GC)\n",
       "  median time:      155.126 μs (0.00% GC)\n",
       "  mean time:        185.994 μs (6.69% GC)\n",
       "  maximum time:     17.875 ms (0.00% GC)\n",
       "  --------------\n",
       "  samples:          10000\n",
       "  evals/sample:     1"
      ]
     },
     "execution_count": 220,
     "metadata": {},
     "output_type": "execute_result"
    }
   ],
   "source": [
    "using BenchmarkTools\n",
    "srand(280)\n",
    "X = rand(0.0:2.0, 100, 100)\n",
    "@benchmark e3(X)"
   ]
  },
  {
   "cell_type": "markdown",
   "metadata": {},
   "source": [
    "Now we optimize the computation of $\\hat{\\Phi}$."
   ]
  },
  {
   "cell_type": "code",
   "execution_count": 225,
   "metadata": {
    "collapsed": false
   },
   "outputs": [
    {
     "name": "stderr",
     "output_type": "stream",
     "text": [
      "WARNING: Method definition kinship1(Array{Float64, 2}) in module Main at In[223]:2 overwritten at In[225]:2.\n"
     ]
    },
    {
     "data": {
      "text/plain": [
       "kinship1 (generic function with 1 method)"
      ]
     },
     "execution_count": 225,
     "metadata": {},
     "output_type": "execute_result"
    }
   ],
   "source": [
    "# variant 1: loops (slow?)\n",
    "function kinship1(X::Matrix{Float64})\n",
    "    (n,m) = size(X)\n",
    "    e = e3(X)\n",
    "\n",
    "    p = zeros(Float64, m)\n",
    "    for k = 1:m\n",
    "        p[k] = (1/(2*n))*sum(X[:,k])\n",
    "    end\n",
    "\n",
    "    sum_p = 0\n",
    "    for k = 1:m\n",
    "        sum_p += (p[k]^2 + (1- p[k])^2)\n",
    "    end\n",
    "\n",
    "    Phi = zeros(Float64, (n,n))\n",
    "    for i = 1:n, j = 1:n\n",
    "        Phi[i,j] = (e[i,j]-sum_p) / (m - sum_p)\n",
    "    end\n",
    "    \n",
    "    return Phi\n",
    "end"
   ]
  },
  {
   "cell_type": "code",
   "execution_count": 267,
   "metadata": {
    "collapsed": false
   },
   "outputs": [
    {
     "name": "stderr",
     "output_type": "stream",
     "text": [
      "WARNING: Method definition kinship2(Array{Float64, 2}) in module Main at In[265]:3 overwritten at In[267]:3.\n"
     ]
    },
    {
     "data": {
      "text/plain": [
       "kinship2 (generic function with 1 method)"
      ]
     },
     "execution_count": 267,
     "metadata": {},
     "output_type": "execute_result"
    }
   ],
   "source": [
    "# variant 2: avoid loops (fast?)\n",
    "function kinship2(X::Matrix{Float64})\n",
    "    (n,m) = size(X)\n",
    "    e = e3(X)\n",
    "    p = (1/(2*n)) * sum(X, 1)\n",
    "    sum_p = m + 2*sum(p.^2 - p) # expand p^2 + (1 - p)^2\n",
    "    Phi = (e - sum_p) ./ (m - sum_p) \n",
    "    return Phi\n",
    "end"
   ]
  },
  {
   "cell_type": "code",
   "execution_count": 244,
   "metadata": {
    "collapsed": false
   },
   "outputs": [
    {
     "data": {
      "text/plain": [
       "BenchmarkTools.Trial: \n",
       "  memory estimate:  436.78 MiB\n",
       "  allocs estimate:  6049507\n",
       "  --------------\n",
       "  minimum time:     652.187 ms (33.46% GC)\n",
       "  median time:      923.636 ms (25.78% GC)\n",
       "  mean time:        1.017 s (23.17% GC)\n",
       "  maximum time:     1.517 s (15.33% GC)\n",
       "  --------------\n",
       "  samples:          6\n",
       "  evals/sample:     1"
      ]
     },
     "execution_count": 244,
     "metadata": {},
     "output_type": "execute_result"
    }
   ],
   "source": [
    "using BenchmarkTools\n",
    "srand(280)\n",
    "X = rand(0.0:2.0, 1000, 10000)\n",
    "@benchmark kinship1(X)"
   ]
  },
  {
   "cell_type": "code",
   "execution_count": 268,
   "metadata": {
    "collapsed": false
   },
   "outputs": [
    {
     "data": {
      "text/plain": [
       "BenchmarkTools.Trial: \n",
       "  memory estimate:  198.75 MiB\n",
       "  allocs estimate:  26\n",
       "  --------------\n",
       "  minimum time:     315.995 ms (1.37% GC)\n",
       "  median time:      343.965 ms (6.63% GC)\n",
       "  mean time:        462.301 ms (12.09% GC)\n",
       "  maximum time:     1.401 s (6.86% GC)\n",
       "  --------------\n",
       "  samples:          11\n",
       "  evals/sample:     1"
      ]
     },
     "execution_count": 268,
     "metadata": {},
     "output_type": "execute_result"
    }
   ],
   "source": [
    "using BenchmarkTools\n",
    "srand(280)\n",
    "X = rand(0.0:2.0, 1000, 10000)\n",
    "@benchmark kinship2(X)"
   ]
  },
  {
   "cell_type": "markdown",
   "metadata": {},
   "source": [
    "**2)**"
   ]
  },
  {
   "cell_type": "code",
   "execution_count": 269,
   "metadata": {
    "collapsed": false
   },
   "outputs": [
    {
     "data": {
      "text/plain": [
       "BenchmarkTools.Trial: \n",
       "  memory estimate:  198.75 MiB\n",
       "  allocs estimate:  26\n",
       "  --------------\n",
       "  minimum time:     322.293 ms (1.35% GC)\n",
       "  median time:      380.535 ms (15.14% GC)\n",
       "  mean time:        374.857 ms (15.59% GC)\n",
       "  maximum time:     430.165 ms (21.46% GC)\n",
       "  --------------\n",
       "  samples:          14\n",
       "  evals/sample:     1"
      ]
     },
     "execution_count": 269,
     "metadata": {},
     "output_type": "execute_result"
    }
   ],
   "source": [
    "using BenchmarkTools\n",
    "srand(280)\n",
    "X = rand(0.0:2.0, 1000, 10000)\n",
    "@benchmark kinship2(X)"
   ]
  },
  {
   "cell_type": "markdown",
   "metadata": {},
   "source": [
    "We achieve a mean time of 375ms using 200MiB memory."
   ]
  },
  {
   "cell_type": "markdown",
   "metadata": {},
   "source": [
    "## Q2"
   ]
  },
  {
   "cell_type": "markdown",
   "metadata": {},
   "source": [
    "**1) Sherman-Morrison**"
   ]
  },
  {
   "cell_type": "markdown",
   "metadata": {},
   "source": [
    "Show $L^{-1}=R\\Leftrightarrow LR=RL=I$. "
   ]
  },
  {
   "cell_type": "markdown",
   "metadata": {},
   "source": [
    "(1) $LR = I$."
   ]
  },
  {
   "cell_type": "markdown",
   "metadata": {},
   "source": [
    "$$\n",
    "\\begin{align}\n",
    "LR &= (A + uu^T)\\left( A^{-1} - {A^{-1} uu^T A^{-1} \\over 1 + u^T A^{-1}u}\\right) \\\\\n",
    "&= AA^{-1} +  uv^T A^{-1} - {AA^{-1}uv^T A^{-1} + uv^T A^{-1}uv^T A^{-1} \\over 1 + v^TA^{-1}u} \\\\\n",
    "&= I +  uv^T A^{-1} - {uv^T A^{-1} + uv^T A^{-1}uv^T A^{-1} \\over 1 + v^T A^{-1}u} \\\\\n",
    "&= I + uv^T A^{-1} - {u(1 + v^T A^{-1}u) v^T A^{-1} \\over 1 + v^T A^{-1}u} \\\\\n",
    "&= I + uv^T A^{-1} - uv^T A^{-1} \\\\\n",
    "&= I.\n",
    "\\end{align}\n",
    "$$"
   ]
  },
  {
   "cell_type": "markdown",
   "metadata": {},
   "source": [
    "(2) $RL = I$."
   ]
  },
  {
   "cell_type": "markdown",
   "metadata": {},
   "source": [
    "$$\n",
    "\\begin{align}\n",
    "RL &= \\left(A^{-1} - {A^{-1}uu^T A^{-1} \\over 1 + u^T A^{-1}u}\\right)(A + uu^T)\\\\\n",
    "&= I.\n",
    "\\end{align}\n",
    "$$"
   ]
  },
  {
   "cell_type": "markdown",
   "metadata": {},
   "source": [
    "QED."
   ]
  },
  {
   "cell_type": "markdown",
   "metadata": {},
   "source": [
    "**2) Woodbury**"
   ]
  },
  {
   "cell_type": "markdown",
   "metadata": {},
   "source": [
    "Apply binomial inverse theorem (3) with $B = I$. QED."
   ]
  },
  {
   "cell_type": "markdown",
   "metadata": {
    "collapsed": true
   },
   "source": [
    "**3) Binomial inversion**"
   ]
  },
  {
   "cell_type": "markdown",
   "metadata": {},
   "source": [
    "$$\n",
    "\\begin{align}\n",
    "(A+UBV^T)(A^{-1}-A^{-1}U(B^{-1}+V^TA^{-1}U)^{-1}V^TA^{-1}) &= I+UBV^TA^{-1}\n",
    "\\end{align}\n",
    "$$"
   ]
  },
  {
   "cell_type": "markdown",
   "metadata": {},
   "source": [
    "TODO"
   ]
  },
  {
   "cell_type": "markdown",
   "metadata": {},
   "source": [
    "QED."
   ]
  },
  {
   "cell_type": "markdown",
   "metadata": {},
   "source": [
    "**4) **\n",
    "Recall Sylvester's determinant theorem\n",
    "$$\n",
    "\\det(I_m+AB)=\\det(I_n+BA).\n",
    "$$"
   ]
  },
  {
   "cell_type": "markdown",
   "metadata": {},
   "source": [
    "Observe\n",
    "$$\n",
    "\\det(X+AB)=\\det(X)\\det(I_n+BX^{-1}A).\n",
    "$$\n",
    "Apply"
   ]
  },
  {
   "cell_type": "markdown",
   "metadata": {},
   "source": [
    "$$\n",
    "\\begin{align}\n",
    "\\det(A+UV^T)&=\\det A \\det(I_n+A^{-1}UV^T)\\\\\n",
    "&=\\det A \\det\\left(\\begin{array}{cc}\n",
    "I & V^{T}\\\\\n",
    "-A^{-1} & I\n",
    "\\end{array}\\right) \\\\\n",
    "&= \\det A \\det (I_m+V^TA^{-1}U).\n",
    "\\end{align}\n",
    "$$"
   ]
  },
  {
   "cell_type": "markdown",
   "metadata": {},
   "source": [
    " QED."
   ]
  },
  {
   "cell_type": "markdown",
   "metadata": {
    "collapsed": true
   },
   "source": [
    "## Q3\n",
    "We know\n",
    "$$\n",
    "y_i=x_i^T\\beta+z_i^T\\gamma + \\epsilon_i\n",
    "$$\n",
    "where $\\epsilon\\sim N(0,\\sigma_0^2)$ and $\\gamma\\sim N(0_q,\\sigma_1^2I_q)$."
   ]
  },
  {
   "cell_type": "markdown",
   "metadata": {},
   "source": [
    "1) TODO We show\n",
    "$$\n",
    "y \\sim N(X\\beta,\\sigma_0^2\\cdot I+\\sigma_1^2ZZ^T).\n",
    "$$\n",
    "Observe\n",
    "$$\n",
    "\\begin{aligned}\n",
    "E(y) &= E(X\\beta+Z\\gamma+\\epsilon) \\\\\n",
    "     &= X\\beta+Z E(\\gamma)+E(\\epsilon) \\\\\n",
    "     & = X\\beta\n",
    "\\end{aligned}.\n",
    "$$\n",
    "And\n",
    "$$\n",
    "\\begin{aligned}\n",
    "Var(y) &= Var(X\\beta+Z\\gamma+\\epsilon) \\\\\n",
    "       &= X\\beta+Z Var(\\gamma)+Var(Z\\epsilon) \\\\\n",
    "       &= \\sigma_0^2\\cdot I_n + \\sigma_1^2\n",
    "\\end{aligned}\n",
    "$$"
   ]
  },
  {
   "cell_type": "markdown",
   "metadata": {},
   "source": [
    "2)"
   ]
  },
  {
   "cell_type": "code",
   "execution_count": 12,
   "metadata": {
    "collapsed": false
   },
   "outputs": [
    {
     "data": {
      "text/plain": [
       "logpdf_mvn (generic function with 2 methods)"
      ]
     },
     "execution_count": 12,
     "metadata": {},
     "output_type": "execute_result"
    }
   ],
   "source": [
    "function logpdf_mvn(y::Vector, Z::Matrix, sigma0, sigma1)\n",
    "    sigma = sigma0^2 * I + sigma1^2 * Z * Z'\n",
    "    n = length(y)\n",
    "    sigmachol = cholfact(sigma)\n",
    "    - (n//2) * log(2π) - (1//2) * logdet(sigmachol) - (1//2) * sumabs2(sigmachol[:L] \\ y)\n",
    "end"
   ]
  },
  {
   "cell_type": "markdown",
   "metadata": {},
   "source": [
    "3)"
   ]
  },
  {
   "cell_type": "code",
   "execution_count": 13,
   "metadata": {
    "collapsed": false
   },
   "outputs": [
    {
     "name": "stdout",
     "output_type": "stream",
     "text": [
      "logpdf_mvn(y,Z,sigma0,sigma1) = -1571.5736734654183\n",
      "logpdf(mvn,y) = -1571.5736734654186\n"
     ]
    },
    {
     "data": {
      "text/plain": [
       "BenchmarkTools.Trial: \n",
       "  memory estimate:  15.78 KiB\n",
       "  allocs estimate:  3\n",
       "  --------------\n",
       "  minimum time:     7.852 ms (0.00% GC)\n",
       "  median time:      8.898 ms (0.00% GC)\n",
       "  mean time:        8.899 ms (0.00% GC)\n",
       "  maximum time:     10.066 ms (0.00% GC)\n",
       "  --------------\n",
       "  samples:          559\n",
       "  evals/sample:     1"
      ]
     },
     "execution_count": 13,
     "metadata": {},
     "output_type": "execute_result"
    }
   ],
   "source": [
    "using BenchmarkTools, Distributions\n",
    "\n",
    "srand(280)\n",
    "\n",
    "n, q = 2000, 10\n",
    "Z = randn(n, q)\n",
    "sigma0, sigma1 = 0.5, 2.0\n",
    "\n",
    "sigma = sigma1^2 * Z * Z' + sigma0^2 * I\n",
    "mvn = MvNormal(sigma)\n",
    "y   = rand(mvn)\n",
    "\n",
    "# check you answer matches that from Distributions.jl\n",
    "@show logpdf_mvn(y, Z, sigma0, sigma1)\n",
    "@show logpdf(mvn, y)\n",
    "\n",
    "# benchmark\n",
    "@benchmark logpdf_mvn(y, Z, sigma0, sigma1)\n",
    "@benchmark logpdf(mvn, y)"
   ]
  }
 ],
 "metadata": {
  "kernelspec": {
   "display_name": "Julia 0.5.1",
   "language": "julia",
   "name": "julia-0.5"
  },
  "language_info": {
   "file_extension": ".jl",
   "mimetype": "application/julia",
   "name": "julia",
   "version": "0.5.1"
  }
 },
 "nbformat": 4,
 "nbformat_minor": 1
}
