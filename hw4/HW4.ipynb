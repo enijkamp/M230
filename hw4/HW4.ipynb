{
 "cells": [
  {
   "cell_type": "markdown",
   "metadata": {},
   "source": [
    "## Biostat M280 HW4\n",
    "Due 06/02   "
   ]
  },
  {
   "cell_type": "markdown",
   "metadata": {},
   "source": [
    "## Q1"
   ]
  },
  {
   "cell_type": "markdown",
   "metadata": {},
   "source": [
    "Let $P(x\\mid p)$ denote a multinomial distribution"
   ]
  },
  {
   "cell_type": "markdown",
   "metadata": {},
   "source": [
    "$$\n",
    "P(x\\mid p)=\\frac{|x|!}{x_{1}!x_{2}!\\cdots x_{d}!}\\prod_{i}^{d}p_{i}^{x_{i}}=\\left(\\begin{array}{c}\n",
    "|x|\\\\\n",
    "x\n",
    "\\end{array}\\right)\\prod_{i}^{d}p_{i}^{x_{i}}\n",
    "$$"
   ]
  },
  {
   "cell_type": "markdown",
   "metadata": {},
   "source": [
    "Let $P(p\\mid\\alpha)$ denote a Dirichlet distribution"
   ]
  },
  {
   "cell_type": "markdown",
   "metadata": {},
   "source": [
    "$$\n",
    "P(p\\mid\\alpha)=\\frac{\\Gamma(\\mid\\alpha\\mid)}{\\prod_{j=1}^{d}\\Gamma(\\alpha_{j})}\\prod_{j=1}^{d}p_{j}^{\\alpha_{j}-1}.\n",
    "$$"
   ]
  },
  {
   "cell_type": "markdown",
   "metadata": {},
   "source": [
    "We marginalize over $p$, substitute and rewrite to observe equality:"
   ]
  },
  {
   "cell_type": "markdown",
   "metadata": {},
   "source": [
    "$$\n",
    "\\begin{align*}\n",
    "P(x & \\mid\\alpha)=\\int_{p}P(x,p\\mid\\alpha)dp\\\\\n",
    " & =\\int_{p}P(x\\mid p)P(p\\mid\\alpha)dp\\\\\n",
    " & =\\frac{\\Gamma(\\mid\\alpha\\mid)}{\\prod_{j=1}^{d}\\Gamma(\\alpha_{j})}\\int_{p}P(x\\mid p)\\prod_{j=1}^{d}p_{j}^{\\alpha_{j}-1}dp\\\\\n",
    " & =\\frac{\\Gamma(\\mid\\alpha\\mid)}{\\prod_{j=1}^{d}\\Gamma(\\alpha_{j})}\\left(\\begin{array}{c}\n",
    "|x|\\\\\n",
    "x\n",
    "\\end{array}\\right)\\int_{p}\\prod_{i}^{d}p_{i}^{x_{i}}\\prod_{j=1}^{d}p_{j}^{\\alpha_{j}-1}dp\\\\\n",
    " & =\\frac{\\Gamma(\\mid\\alpha\\mid)}{\\prod_{j=1}^{d}\\Gamma(\\alpha_{j})}\\left(\\begin{array}{c}\n",
    "|x|\\\\\n",
    "x\n",
    "\\end{array}\\right)\\int_{p}\\prod_{j=1}^{d}p_{j}^{x_{j}+\\alpha_{j}-1}dp\\\\\n",
    " & =\\frac{\\Gamma(\\mid\\alpha\\mid)}{\\prod_{j=1}^{d}\\Gamma(\\alpha_{j})}\\left(\\begin{array}{c}\n",
    "|x|\\\\\n",
    "x\n",
    "\\end{array}\\right)\\frac{\\prod_{j=1}^{d}\\Gamma(x_{j}+\\alpha_{j})}{\\Gamma(\\sum x_{j}+\\sum\\alpha_{j})}\\\\\n",
    " & =\\frac{\\Gamma(\\mid\\alpha\\mid)}{\\prod_{j=1}^{d}\\Gamma(\\alpha_{j})}\\left(\\begin{array}{c}\n",
    "|x|\\\\\n",
    "x\n",
    "\\end{array}\\right)\\frac{\\prod_{j=1}^{d}\\Gamma(x_{j}+\\alpha_{j})}{\\Gamma(|x|+|\\alpha|)}.\n",
    "\\end{align*}\n",
    "$$"
   ]
  },
  {
   "cell_type": "markdown",
   "metadata": {},
   "source": [
    "## Q2"
   ]
  },
  {
   "cell_type": "markdown",
   "metadata": {},
   "source": [
    "Rewrite to obtain the desired equality:"
   ]
  },
  {
   "cell_type": "markdown",
   "metadata": {},
   "source": [
    "$$\n",
    "\\begin{align*}\n",
    "\\mathcal{L}(\\alpha) & =\\log\\prod_{i=1}^{n}P(x_{i}\\mid\\alpha)\\\\\n",
    " & =\\log\\prod_{i=1}^{n}\\frac{\\Gamma(\\mid\\alpha\\mid)}{\\prod_{j=1}^{d}\\Gamma(\\alpha_{j})}\\left(\\begin{array}{c}\n",
    "|x|\\\\\n",
    "x\n",
    "\\end{array}\\right)\\frac{\\prod_{j=1}^{d}\\Gamma(x_{ij}+\\alpha_{j})}{\\Gamma(|x_{i}|+|\\alpha|)}\\\\\n",
    " & =\\sum_{i=1}^{n}\\log\\left(\\frac{\\Gamma(\\mid\\alpha\\mid)}{\\prod_{j=1}^{d}\\Gamma(\\alpha_{j})}\\left(\\begin{array}{c}\n",
    "|x|\\\\\n",
    "x\n",
    "\\end{array}\\right)\\frac{\\prod_{j=1}^{d}\\Gamma(x_{ij}+\\alpha_{j})}{\\Gamma(|x_{i}|+|\\alpha|)}\\right)\\\\\n",
    " & =\\sum_{i=1}^{n}\\log\\left(\\Gamma(\\mid\\alpha\\mid)\\right)-\\sum_{i=1}^{n}\\log\\left(\\prod_{j=1}^{d}\\Gamma(\\alpha_{j})\\right)+\\sum_{i=1}^{n}\\log\\left(\\begin{array}{c}\n",
    "|x_{i}|\\\\\n",
    "x_{i}\n",
    "\\end{array}\\right)+\\sum_{i=1}^{n}\\log\\left(\\prod_{j=1}^{d}\\Gamma(x_{ij}+\\alpha_{j})\\right)-\\sum_{i=1}^{n}\\log\\left(\\Gamma(|x_{i}|+|\\alpha|)\\right)\\\\\n",
    " & =\\sum_{i=1}^{n}\\log\\left(\\begin{array}{c}\n",
    "|x_{i}|\\\\\n",
    "x_{i}\n",
    "\\end{array}\\right)+\\sum_{i=1}^{n}\\sum_{j=1}^{d}\\left[\\log\\Gamma(x_{ij}+\\alpha_{j})-\\log\\Gamma(\\alpha_{j})\\right]-\\sum_{i=1}^{n}\\left[\\log\\Gamma(|x_{i}|+|\\alpha|)-\\log\\left(\\Gamma(\\mid\\alpha\\mid)\\right)\\right].\n",
    "\\end{align*}\n",
    "$$"
   ]
  },
  {
   "cell_type": "markdown",
   "metadata": {},
   "source": [
    "Note $log(\\cdot)$ is concave on its domain as its derivative is strictly decreasing. The sum of concave functions is concave. Therefore $\\mathcal{L}(\\alpha)$ is a concave function of $\\alpha$."
   ]
  },
  {
   "cell_type": "markdown",
   "metadata": {},
   "source": [
    "## Q3"
   ]
  },
  {
   "cell_type": "code",
   "execution_count": 3,
   "metadata": {
    "collapsed": false
   },
   "outputs": [
    {
     "name": "stderr",
     "output_type": "stream",
     "text": [
      "WARNING: Method definition dirmult_logpdf(Array{T<:Any, 1}, Array{T<:Any, 1}) in module Main at In[2]:2 overwritten at In[3]:2.\n",
      "WARNING: Method definition dirmult_logpdf!(Array{T<:Any, 1}, Array{T<:Any, 2}, Array{T<:Any, 1}) in module Main at In[2]:7 overwritten at In[3]:7.\n",
      "WARNING: Method definition dirmult_logpdf(Array{T<:Any, 2}, Array{T<:Any, 1}) in module Main at In[2]:14 overwritten at In[3]:14.\n"
     ]
    },
    {
     "data": {
      "text/plain": [
       "dirmult_logpdf (generic function with 2 methods)"
      ]
     },
     "execution_count": 3,
     "metadata": {},
     "output_type": "execute_result"
    }
   ],
   "source": [
    "function dirmult_logpdf(x::Vector, α::Vector)\n",
    "    logpdf = lfact(sum(x)) - sum(lfact(x)) + sum(lgamma(x+α)) - sum(lgamma(α)) - lgamma(sum(x)+sum(α)) + lgamma(sum(α))\n",
    "    logpdf\n",
    "end\n",
    "\n",
    "function dirmult_logpdf!(r::Vector, X::Matrix, α::Vector)\n",
    "    for j in 1:size(X, 2)\n",
    "        r[j] = dirmult_logpdf(X[:, j], α)\n",
    "    end\n",
    "    return r\n",
    "end\n",
    "\n",
    "function dirmult_logpdf(X::Matrix, α::Vector)\n",
    "    r = zeros(size(X, 2))\n",
    "    dirmult_logpdf!(r, X, α)\n",
    "end"
   ]
  },
  {
   "cell_type": "code",
   "execution_count": 21,
   "metadata": {
    "collapsed": false
   },
   "outputs": [
    {
     "data": {
      "text/plain": [
       "4-element Array{Float64,1}:\n",
       " -3.55535\n",
       " -3.55535\n",
       " -3.55535\n",
       " -3.55535"
      ]
     },
     "execution_count": 21,
     "metadata": {},
     "output_type": "execute_result"
    }
   ],
   "source": [
    "x = ones(4,4)\n",
    "alpha = ones(4)\n",
    "dirmult_logpdf(x, alpha)"
   ]
  },
  {
   "cell_type": "markdown",
   "metadata": {
    "collapsed": true
   },
   "source": [
    "## Q4"
   ]
  },
  {
   "cell_type": "code",
   "execution_count": 23,
   "metadata": {
    "collapsed": false
   },
   "outputs": [
    {
     "name": "stdout",
     "output_type": "stream",
     "text": [
      "-638817.993292528"
     ]
    }
   ],
   "source": [
    "digits = readdlm(\"optdigits.tra\", ',')\n",
    "X = digits[:, 1:64]'\n",
    "alpha = ones(64)\n",
    "total = sum(dirmult_logpdf(X, alpha))\n",
    "print(total)"
   ]
  },
  {
   "cell_type": "code",
   "execution_count": null,
   "metadata": {
    "collapsed": true
   },
   "outputs": [],
   "source": []
  }
 ],
 "metadata": {
  "kernelspec": {
   "display_name": "Julia 0.5.2",
   "language": "julia",
   "name": "julia-0.5"
  },
  "language_info": {
   "file_extension": ".jl",
   "mimetype": "application/julia",
   "name": "julia",
   "version": "0.5.2"
  }
 },
 "nbformat": 4,
 "nbformat_minor": 2
}
