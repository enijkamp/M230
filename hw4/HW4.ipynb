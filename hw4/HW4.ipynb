{
 "cells": [
  {
   "cell_type": "markdown",
   "metadata": {},
   "source": [
    "## Biostat M280 HW4\n",
    "Due 06/02   "
   ]
  },
  {
   "cell_type": "markdown",
   "metadata": {},
   "source": [
    "## Q1"
   ]
  },
  {
   "cell_type": "markdown",
   "metadata": {},
   "source": [
    "Let $P(x\\mid p)$ denote a multinomial distribution"
   ]
  },
  {
   "cell_type": "markdown",
   "metadata": {},
   "source": [
    "$$\n",
    "P(x\\mid p)=\\frac{|x|}{x_{1}!x_{2}!\\cdots x_{d}!}\\prod_{i}^{d}p_{i}^{x_{i}}=\\left(\\begin{array}{c}\n",
    "|x|\\\\\n",
    "x\n",
    "\\end{array}\\right)\\prod_{i}^{d}p_{i}^{x_{i}}\n",
    "$$"
   ]
  },
  {
   "cell_type": "markdown",
   "metadata": {},
   "source": [
    "Let $P(p\\mid\\alpha)$ denote a Dirichlet distribution"
   ]
  },
  {
   "cell_type": "markdown",
   "metadata": {},
   "source": [
    "$$\n",
    "P(p\\mid\\alpha)=\\frac{\\Gamma(\\mid\\alpha\\mid)}{\\prod_{j=1}^{d}\\Gamma(\\alpha_{j})}\\prod_{j=1}^{d}p_{j}^{\\alpha_{j}-1}.\n",
    "$$"
   ]
  },
  {
   "cell_type": "markdown",
   "metadata": {},
   "source": [
    "We marginalize over $p$, substitute and rewrite to observe equality:"
   ]
  },
  {
   "cell_type": "markdown",
   "metadata": {},
   "source": [
    "$$\n",
    "\\begin{align*}\n",
    "P(x & \\mid\\alpha)=\\int_{p}P(x,p\\mid\\alpha)dp\\\\\n",
    " & =\\int_{p}P(x\\mid p)P(p\\mid\\alpha)dp\\\\\n",
    " & =\\frac{\\Gamma(\\mid\\alpha\\mid)}{\\prod_{j=1}^{d}\\Gamma(\\alpha_{j})}\\int_{p}P(x\\mid p)\\prod_{j=1}^{d}p_{j}^{\\alpha_{j}-1}dp\\\\\n",
    " & =\\frac{\\Gamma(\\mid\\alpha\\mid)}{\\prod_{j=1}^{d}\\Gamma(\\alpha_{j})}\\left(\\begin{array}{c}\n",
    "|x|\\\\\n",
    "x\n",
    "\\end{array}\\right)\\int_{p}\\prod_{i}^{d}p_{i}^{x_{i}}\\prod_{j=1}^{d}p_{j}^{\\alpha_{j}-1}dp\\\\\n",
    " & =\\frac{\\Gamma(\\mid\\alpha\\mid)}{\\prod_{j=1}^{d}\\Gamma(\\alpha_{j})}\\left(\\begin{array}{c}\n",
    "|x|\\\\\n",
    "x\n",
    "\\end{array}\\right)\\int_{p}\\prod_{j=1}^{d}p_{j}^{x_{j}+\\alpha_{j}-1}dp\\\\\n",
    " & =\\frac{\\Gamma(\\mid\\alpha\\mid)}{\\prod_{j=1}^{d}\\Gamma(\\alpha_{j})}\\left(\\begin{array}{c}\n",
    "|x|\\\\\n",
    "x\n",
    "\\end{array}\\right)\\frac{\\prod_{j=1}^{d}\\Gamma(x_{j}+\\alpha_{j})}{\\Gamma(\\sum x_{j}+\\sum\\alpha_{j})}\\\\\n",
    " & =\\frac{\\Gamma(\\mid\\alpha\\mid)}{\\prod_{j=1}^{d}\\Gamma(\\alpha_{j})}\\left(\\begin{array}{c}\n",
    "|x|\\\\\n",
    "x\n",
    "\\end{array}\\right)\\frac{\\prod_{j=1}^{d}\\Gamma(x_{j}+\\alpha_{j})}{\\Gamma(|x|+|\\alpha|)}.\n",
    "\\end{align*}\n",
    "$$"
   ]
  },
  {
   "cell_type": "markdown",
   "metadata": {},
   "source": [
    "## Q2"
   ]
  },
  {
   "cell_type": "code",
   "execution_count": null,
   "metadata": {
    "collapsed": true
   },
   "outputs": [],
   "source": []
  }
 ],
 "metadata": {
  "kernelspec": {
   "display_name": "Julia 0.5.2",
   "language": "julia",
   "name": "julia-0.5"
  },
  "language_info": {
   "file_extension": ".jl",
   "mimetype": "application/julia",
   "name": "julia",
   "version": "0.5.2"
  }
 },
 "nbformat": 4,
 "nbformat_minor": 2
}
