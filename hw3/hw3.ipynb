{
 "cells": [
  {
   "cell_type": "markdown",
   "metadata": {},
   "source": [
    "## Biostat M280 HW3\n",
    "Due 05/19  \n",
    "\n",
    "Julia Cheatsheet https://cheatsheets.quantecon.org/julia-cheatsheet.html"
   ]
  },
  {
   "cell_type": "markdown",
   "metadata": {
    "collapsed": true
   },
   "source": [
    "## Q1"
   ]
  },
  {
   "cell_type": "markdown",
   "metadata": {},
   "source": [
    "Let $A=(a_{ij}) \\in \\{0,1\\}^{n\\times n}$ be the connectivity matrix of $n$ web pages with entries\n",
    "\n",
    "$$\n",
    "a_{ij}=\\begin{cases}\n",
    "1 & i\\rightarrow j\\\\\n",
    "0 & else\n",
    "\\end{cases}\n",
    "$$\n",
    "\n",
    "where $i \\rightarrow j$ denotes the transition from page $i$ to $j$. Let $r_i = \\sum_j a_{ij}$ denote the out-degree of page $i$."
   ]
  },
  {
   "cell_type": "markdown",
   "metadata": {
    "collapsed": true
   },
   "source": [
    "Let $p$ denote the probability of randomly choosing a link $i \\rightarrow j$ and $q = (1-p)$ the probability of randomly choosing one page of the set of all $n$ pages.   \n",
    "\n",
    "Then $p_{ij}$ denotes the probability of transition $i \\rightarrow j$\n",
    "\n",
    "$$\n",
    "p_{ij}=\\begin{cases}\n",
    "p\\cdot\\frac{a_{ij}}{r_i} + q\\cdot\\frac{1}{n} & r_i > 0\\\\\n",
    "\\frac{1}{n} & r_i = 0.\n",
    "\\end{cases}\n",
    "$$"
   ]
  },
  {
   "cell_type": "markdown",
   "metadata": {},
   "source": [
    "Let $P$ denote the transition matrixsad\n",
    "\n",
    "$$\n",
    "P = \\frac{1}{n}\\cdot q\\cdot1_{1\\times n}+R\\cdot A\n",
    "$$\n",
    "\n",
    "where $q = (q_1,q_2,\\ldots,q_n)^T \\in \\mathbb{R}^n$ with\n",
    "\n",
    "$$\n",
    "q_i=\\begin{cases}\n",
    "q, & r_i > 0\\\\\n",
    "1, & r_i = 0\n",
    "\\end{cases}\n",
    "$$\n",
    "\n",
    "and\n",
    "\n",
    "$$\n",
    "R=\\left(\\begin{array}{cccc}\n",
    "\\widetilde{r}_{1} & 0 & \\ldots & 0\\\\\n",
    "0 & \\widetilde{r}_{2} &  & \\vdots\\\\\n",
    "\\vdots &  & \\ddots & 0\\\\\n",
    "0 & \\cdots & 0 & \\widetilde{r}_{n}\n",
    "\\end{array}\\right)\n",
    "$$\n",
    "\n",
    "with\n",
    "\n",
    "$$\n",
    "\\widetilde{r}_i=\\begin{cases}\n",
    "\\frac{p}{r_i}, & r_i > 0\\\\\n",
    "0, & r_i = 0.\n",
    "\\end{cases}\n",
    "$$"
   ]
  },
  {
   "cell_type": "markdown",
   "metadata": {},
   "source": [
    "## Q2"
   ]
  },
  {
   "cell_type": "markdown",
   "metadata": {
    "collapsed": true
   },
   "source": [
    "Let $P=(p_{ij})$ denote $\\vert\\Omega\\vert\\times\\vert\\Omega\\vert$ transition matrix where $p_{ij} = P(x_{t+1}=j\\vert x_t=i)$ with transition $i \\rightarrow j$ for a Markov chain on $\\Omega$ as stochastic process $\\{X_0,X_1,\\ldots,X_n\\}$.\n",
    "  \n",
    "We assume $P$ is irreducable and aperiodic, that is the chain is ergodic. We observe $P$ is a non-negative row-stochastic matrix $P\\cdot1=1$.\n",
    "   \n",
    "Then the fundamental theorem of Markov Chains states that there exists a unique stationary distribution $\\pi$ as left-eigenvector such that $\\pi^TP=\\pi$ with spectral radius $\\rho(P) = \\max \\left \\{ |\\lambda_1|, \\cdots, |\\lambda_n| \\right \\} = 1$. We omit the proof which is a direct consequence of the Perron-Frobenius theorem.\n",
    "  \n",
    "We formulate the above as classical eigen-value problem $P\\pi=\\lambda\\pi$ which can be equivalently stated as $(P-\\lambdaI)\\pi = 0.$ In our case, we obtain the linear system $(I-P^T)\\pi = 0$. Observe $P\\cdot1=1$ causes $\\det(I-P^T)=0$ since the rows are not linearly independent or equivalently the sum of each column is zero. Since $\\pi$ must be a probability distribut"
   ]
  },
  {
   "cell_type": "code",
   "execution_count": null,
   "metadata": {
    "collapsed": true
   },
   "outputs": [],
   "source": []
  }
 ],
 "metadata": {
  "kernelspec": {
   "display_name": "Julia 0.5.1",
   "language": "julia",
   "name": "julia-0.5"
  },
  "language_info": {
   "file_extension": ".jl",
   "mimetype": "application/julia",
   "name": "julia",
   "version": "0.5.1"
  }
 },
 "nbformat": 4,
 "nbformat_minor": 1
}
