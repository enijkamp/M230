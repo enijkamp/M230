{
 "cells": [
  {
   "cell_type": "markdown",
   "metadata": {},
   "source": [
    "## Biostat M280 HW3\n",
    "Due 05/19  \n",
    "\n",
    "Julia Cheatsheet https://cheatsheets.quantecon.org/julia-cheatsheet.html"
   ]
  },
  {
   "cell_type": "markdown",
   "metadata": {
    "collapsed": true
   },
   "source": [
    "## Q1"
   ]
  },
  {
   "cell_type": "markdown",
   "metadata": {},
   "source": [
    "Let $A=(a_{ij}) \\in \\{0,1\\}^{n\\times n}$ be the connectivity matrix of $n$ web pages with entries\n",
    "\n",
    "$$\n",
    "a_{ij}=\\begin{cases}\n",
    "1 & i\\rightarrow j\\\\\n",
    "0 & else\n",
    "\\end{cases}\n",
    "$$\n",
    "\n",
    "where $i \\rightarrow j$ denotes an edge from page $i$ to $j$. Let $r_i = \\sum_j a_{ij}$ denote the out-degree of page $i$."
   ]
  },
  {
   "cell_type": "markdown",
   "metadata": {
    "collapsed": true
   },
   "source": [
    "Let $p$ denote the probability of randomly choosing a link $i \\rightarrow j$ and $q = (1-p)$ the probability of randomly choosing one page of the set of all $n$ pages.   \n",
    "\n",
    "Then $p_{ij}$ denotes the probability of transition $i \\rightarrow j$\n",
    "\n",
    "$$\n",
    "p_{ij}=\\begin{cases}\n",
    "p\\cdot\\frac{a_{ij}}{r_i} + q\\cdot\\frac{1}{n} & r_i > 0\\\\\n",
    "\\frac{1}{n} & r_i = 0.\n",
    "\\end{cases}\n",
    "$$"
   ]
  },
  {
   "cell_type": "markdown",
   "metadata": {},
   "source": [
    "Let $P$ denote the transition matrixsad\n",
    "\n",
    "$$\n",
    "P = Q+R\\cdot A\n",
    "$$\n",
    "\n",
    "where\n",
    "\n",
    "$$\n",
    "Q=\\frac{1}{n}\\cdot q\\cdot1_{1\\times n}\n",
    "$$\n",
    "\n",
    "with $q = (q_1,q_2,\\ldots,q_n)^T \\in \\mathbb{R}^n$ with\n",
    "\n",
    "$$\n",
    "q_i=\\begin{cases}\n",
    "q, & r_i > 0\\\\\n",
    "1, & r_i = 0\n",
    "\\end{cases}\n",
    "$$\n",
    "\n",
    "and\n",
    "\n",
    "$$\n",
    "R=\\left(\\begin{array}{cccc}\n",
    "\\widetilde{r}_{1} & 0 & \\ldots & 0\\\\\n",
    "0 & \\widetilde{r}_{2} &  & \\vdots\\\\\n",
    "\\vdots &  & \\ddots & 0\\\\\n",
    "0 & \\cdots & 0 & \\widetilde{r}_{n}\n",
    "\\end{array}\\right)\n",
    "$$\n",
    "\n",
    "with\n",
    "\n",
    "$$\n",
    "\\widetilde{r}_i=\\begin{cases}\n",
    "\\frac{p}{r_i}, & r_i > 0\\\\\n",
    "0, & r_i = 0.\n",
    "\\end{cases}\n",
    "$$"
   ]
  },
  {
   "cell_type": "markdown",
   "metadata": {},
   "source": [
    "## Q2"
   ]
  },
  {
   "cell_type": "markdown",
   "metadata": {
    "collapsed": true
   },
   "source": [
    "Let $P=(p_{ij})$ denote $\\vert\\Omega\\vert\\times\\vert\\Omega\\vert$ transition matrix where $p_{ij} = P(x_{t+1}=j\\vert x_t=i)$ with transition $i \\rightarrow j$ for a Markov chain on $\\Omega$ as stochastic process $\\{X_0,X_1,\\ldots,X_n\\}$.\n",
    "  \n",
    "We assume $P$ is irreducable and aperiodic, that is the chain is ergodic. We observe $P$ is a non-negative row-stochastic matrix $P\\cdot1=1$.\n",
    "   \n",
    "Then the fundamental theorem of Markov Chains states that there exists a unique stationary distribution $\\pi$ as left-eigenvector such that $\\pi^TP=\\pi$ with spectral radius $\\rho(P) = \\max \\left \\{ |\\lambda_1|, \\cdots, |\\lambda_n| \\right \\} = 1$. We omit the proof which is a direct consequence of the Perron-Frobenius theorem.\n",
    "  \n",
    "We formulate the above as classical eigen-value problem $P\\pi=\\lambda\\pi$ which can be equivalently stated as $(P-\\lambda I)\\pi = 0.$ In our case, we obtain the linear system $(I-P^T)\\pi = 0$. Observe $P\\cdot1=1$ causes $\\det(I-P^T)=0$ since the rows are not linearly independent or equivalently the sum of each column is zero. Since $\\pi$ must be a probability distribution, we can further constraint the system with $\\sum_i\\pi_i=1$."
   ]
  },
  {
   "cell_type": "markdown",
   "metadata": {},
   "source": [
    "## Q3"
   ]
  },
  {
   "cell_type": "code",
   "execution_count": 1,
   "metadata": {
    "collapsed": false
   },
   "outputs": [],
   "source": [
    "A = readdlm(\"/home/juser/M230/hw3/A.txt\", ',');\n",
    "U = readdlm(\"/home/juser/M230/hw3/U.txt\", ',');\n",
    "inedges = sum(A,1);\n",
    "outedges = sum(A,2);"
   ]
  },
  {
   "cell_type": "code",
   "execution_count": 14,
   "metadata": {
    "collapsed": false
   },
   "outputs": [
    {
     "data": {
      "text/plain": [
       "\"#pages = 500\""
      ]
     },
     "execution_count": 14,
     "metadata": {},
     "output_type": "execute_result"
    }
   ],
   "source": [
    "\"#pages = \" * string(size(A)[1])"
   ]
  },
  {
   "cell_type": "code",
   "execution_count": 15,
   "metadata": {
    "collapsed": false
   },
   "outputs": [
    {
     "data": {
      "text/plain": [
       "\"#links = 11158.0\""
      ]
     },
     "execution_count": 15,
     "metadata": {},
     "output_type": "execute_result"
    }
   ],
   "source": [
    "\"#links = \" * string(sum(A))"
   ]
  },
  {
   "cell_type": "code",
   "execution_count": 21,
   "metadata": {
    "collapsed": false
   },
   "outputs": [
    {
     "data": {
      "text/plain": [
       "\"#dangling 96\""
      ]
     },
     "execution_count": 21,
     "metadata": {},
     "output_type": "execute_result"
    }
   ],
   "source": [
    "\"#dangling = \" * string(sum(outedges .< 1))"
   ]
  },
  {
   "cell_type": "code",
   "execution_count": 26,
   "metadata": {
    "collapsed": false
   },
   "outputs": [
    {
     "data": {
      "text/plain": [
       "\"http://www.ucla.edu\""
      ]
     },
     "execution_count": 26,
     "metadata": {},
     "output_type": "execute_result"
    }
   ],
   "source": [
    "U[indmax(inedges)]"
   ]
  },
  {
   "cell_type": "code",
   "execution_count": 27,
   "metadata": {
    "collapsed": false
   },
   "outputs": [
    {
     "data": {
      "text/plain": [
       "\"http://giveto.ucla.edu\""
      ]
     },
     "execution_count": 27,
     "metadata": {},
     "output_type": "execute_result"
    }
   ],
   "source": [
    "U[indmax(outedges)]"
   ]
  },
  {
   "cell_type": "code",
   "execution_count": 29,
   "metadata": {
    "collapsed": false
   },
   "outputs": [
    {
     "data": {
      "image/png": "[encoded data removed]",
      "text/plain": [
       "PyPlot.Figure(PyObject <matplotlib.figure.Figure object at 0x7f356cb2ff90>)"
      ]
     },
     "metadata": {},
     "output_type": "display_data"
    },
    {
     "data": {
      "text/plain": [
       "PyObject <matplotlib.image.AxesImage object at 0x7f356ca26e90>"
      ]
     },
     "execution_count": 29,
     "metadata": {},
     "output_type": "execute_result"
    }
   ],
   "source": [
    "using PyPlot\n",
    "matshow(A)"
   ]
  },
  {
   "cell_type": "markdown",
   "metadata": {},
   "source": [
    "## Q4"
   ]
  },
  {
   "cell_type": "markdown",
   "metadata": {},
   "source": [
    "**1) LU **"
   ]
  },
  {
   "cell_type": "code",
   "execution_count": 30,
   "metadata": {
    "collapsed": false
   },
   "outputs": [
    {
     "data": {
      "text/plain": [
       "pr_lu (generic function with 1 method)"
      ]
     },
     "execution_count": 30,
     "metadata": {},
     "output_type": "execute_result"
    }
   ],
   "source": [
    "function pr_lu(A, p)\n",
    "    r = sum(A,2)\n",
    "    (n,n) = size(A)\n",
    "    q = r > 0 ? (p / r) : 0\n",
    "end"
   ]
  },
  {
   "cell_type": "markdown",
   "metadata": {},
   "source": [
    "**Benchmark**"
   ]
  },
  {
   "cell_type": "code",
   "execution_count": 3,
   "metadata": {
    "collapsed": false
   },
   "outputs": [
    {
     "ename": "LoadError",
     "evalue": "UndefVarError: pr_lu not defined",
     "output_type": "error",
     "traceback": [
      "UndefVarError: pr_lu not defined",
      ""
     ]
    }
   ],
   "source": [
    "As = sparse(A)\n",
    "p = 0.85\n",
    "pr_lu(As, p)"
   ]
  },
  {
   "cell_type": "code",
   "execution_count": 4,
   "metadata": {
    "collapsed": false
   },
   "outputs": [
    {
     "ename": "LoadError",
     "evalue": "MethodError: no method matching isless(::Int64, ::Array{Float64,2})\u001b[0m\nClosest candidates are:\n  isless(::Real, \u001b[1m\u001b[31m::AbstractFloat\u001b[0m) at operators.jl:41\n  isless(::Real, \u001b[1m\u001b[31m::Real\u001b[0m) at operators.jl:75\n  isless(::Integer, \u001b[1m\u001b[31m::Char\u001b[0m) at deprecated.jl:49\u001b[0m",
     "output_type": "error",
     "traceback": [
      "MethodError: no method matching isless(::Int64, ::Array{Float64,2})\u001b[0m\nClosest candidates are:\n  isless(::Real, \u001b[1m\u001b[31m::AbstractFloat\u001b[0m) at operators.jl:41\n  isless(::Real, \u001b[1m\u001b[31m::Real\u001b[0m) at operators.jl:75\n  isless(::Integer, \u001b[1m\u001b[31m::Char\u001b[0m) at deprecated.jl:49\u001b[0m",
      "",
      " in >(::Array{Float64,2}, ::Int64) at ./operators.jl:64"
     ]
    }
   ],
   "source": [
    "    r = sum(A,2)\n",
    "    (n,n) = size(A)\n",
    "    q = r .> 0 ? (p / r) : 0"
   ]
  },
  {
   "cell_type": "code",
   "execution_count": 9,
   "metadata": {
    "collapsed": false
   },
   "outputs": [
    {
     "ename": "LoadError",
     "evalue": "TypeError: non-boolean (BitArray{2}) used in boolean context",
     "output_type": "error",
     "traceback": [
      "TypeError: non-boolean (BitArray{2}) used in boolean context",
      ""
     ]
    }
   ],
   "source": [
    "q = r .> 0 ? (p / r) : 0"
   ]
  },
  {
   "cell_type": "code",
   "execution_count": 7,
   "metadata": {
    "collapsed": false
   },
   "outputs": [
    {
     "ename": "LoadError",
     "evalue": "TypeError: non-boolean (BitArray{2}) used in boolean context",
     "output_type": "error",
     "traceback": [
      "TypeError: non-boolean (BitArray{2}) used in boolean context",
      ""
     ]
    }
   ],
   "source": [
    "r .> 0 ? true : false"
   ]
  },
  {
   "cell_type": "code",
   "execution_count": 10,
   "metadata": {
    "collapsed": false
   },
   "outputs": [
    {
     "data": {
      "text/plain": [
       "500×500 Array{Real,2}:\n",
       " 0.0003     0.0306571  0.0306571  …  0.0003     0.0003     0.0003   \n",
       " 0.0003     0.0003     0.0003        0.0003     0.0003     0.0003   \n",
       " 0.0        0.0        0.0           0.0        0.0        0.0      \n",
       " 0.0        0.0        0.0           0.0        0.0        0.0      \n",
       " 0.0003     0.0003     0.0003        0.0003     0.0003     0.0003   \n",
       " 0.0003     0.0003     0.0003     …  0.0003     0.0003     0.0003   \n",
       " 0.0389364  0.0003     0.0003        0.0003     0.0003     0.0003   \n",
       " 0.0124429  0.0003     0.0003        0.0003     0.0003     0.0003   \n",
       " 0.0389364  0.0003     0.0003        0.0003     0.0003     0.0003   \n",
       " 0.0389364  0.0003     0.0003        0.0003     0.0003     0.0003   \n",
       " 0.0191889  0.0003     0.0003     …  0.0003     0.0003     0.0003   \n",
       " 0.0389364  0.0003     0.0003        0.0003     0.0003     0.0003   \n",
       " 0.0372565  0.0003     0.0003        0.0003     0.0003     0.0003   \n",
       " ⋮                                ⋱                                 \n",
       " 0.0003     0.0003     0.0003        0.0003     0.0003     0.0003   \n",
       " 0.0003     0.0003     0.0003        0.0277194  0.0277194  0.0277194\n",
       " 0.0003     0.0003     0.0003     …  0.0003     0.0003     0.0003   \n",
       " 0.0003     0.0003     0.0003        0.0003     0.0003     0.0003   \n",
       " 0.0003     0.0003     0.0003        0.0003     0.0003     0.0003   \n",
       " 0.0003     0.0003     0.0003        0.0003     0.0003     0.0003   \n",
       " 0.0003     0.0003     0.0003        0.0003     0.0003     0.0003   \n",
       " 0.0003     0.0003     0.0003     …  0.0286333  0.0286333  0.0286333\n",
       " 0.0003     0.0003     0.0003        0.2128     0.0003     0.0003   \n",
       " 0.0003     0.0003     0.0003        0.0286333  0.0286333  0.0286333\n",
       " 0.0003     0.0003     0.0003        0.0003     0.2128     0.0003   \n",
       " 0.0        0.0        0.0           0.0        0.0        0.0      "
      ]
     },
     "execution_count": 10,
     "metadata": {},
     "output_type": "execute_result"
    }
   ],
   "source": [
    "p = 0.85\n",
    "(n,n) = size(A)\n",
    "As = sparse(A)\n",
    "r = sum(A,2)\n",
    "q = 1/n * [r[i] > 0 ? (1-p) : 0 for i=1:n]\n",
    "r_tilde = [r[i] > 0 ? (p / r[i]) : 0 for i=1:n]\n",
    "RA = diagm(r_tilde) * As\n",
    "Q = q * ones(1, n)\n",
    "P = RA + Q"
   ]
  },
  {
   "cell_type": "code",
   "execution_count": 18,
   "metadata": {
    "collapsed": false
   },
   "outputs": [
    {
     "data": {
      "text/plain": [
       "500-element Array{Float64,1}:\n",
       " 0.551472   \n",
       " 0.00855409 \n",
       " 0.00906419 \n",
       " 0.00905661 \n",
       " 0.00855409 \n",
       " 0.00855409 \n",
       " 0.00855409 \n",
       " 0.00855409 \n",
       " 0.00855409 \n",
       " 0.00855409 \n",
       " 0.00855409 \n",
       " 0.00876295 \n",
       " 0.00873464 \n",
       " ⋮          \n",
       " 0.000196786\n",
       " 0.000196786\n",
       " 0.000192216\n",
       " 0.000317211\n",
       " 0.000229338\n",
       " 0.000196786\n",
       " 0.000196786\n",
       " 0.000595624\n",
       " 0.000196786\n",
       " 0.000196786\n",
       " 0.000196786\n",
       " 0.000175877"
      ]
     },
     "execution_count": 18,
     "metadata": {},
     "output_type": "execute_result"
    }
   ],
   "source": [
    "# LU\n",
    "I_P = (eye(n) - P') + diagm(ones(n))\n",
    "I_P[1,:] = 1\n",
    "b = [1; zeros(n-1)]\n",
    "x = lufact(I_P) \\ b"
   ]
  },
  {
   "cell_type": "markdown",
   "metadata": {},
   "source": [
    "## Q5"
   ]
  },
  {
   "cell_type": "code",
   "execution_count": 25,
   "metadata": {
    "collapsed": false
   },
   "outputs": [
    {
     "data": {
      "text/html": [
       "<table class=\"data-frame\"><thead><tr><th></th><th>Url</th><th>Rank</th><th>In</th><th>Out</th></tr></thead><tbody><tr><th>1</th><td>http://www.ucla.edu</td><td>0.5514724724324079</td><td>171.0</td><td>28.0</td></tr><tr><th>2</th><td>http://www.directory.ucla.edu</td><td>0.012055605523013886</td><td>112.0</td><td>40.0</td></tr><tr><th>3</th><td>http://happenings.ucla.edu</td><td>0.011418694089603528</td><td>71.0</td><td>13.0</td></tr><tr><th>4</th><td>http://www.universityofcalifornia.edu</td><td>0.010915188840624635</td><td>53.0</td><td>35.0</td></tr><tr><th>5</th><td>http://www.registrar.ucla.edu/calendar</td><td>0.010675070620742442</td><td>55.0</td><td>24.0</td></tr><tr><th>6</th><td>http://twitter.com/ucla</td><td>0.009586676595424738</td><td>37.0</td><td>0.0</td></tr><tr><th>7</th><td>http://www.facebook.com/uclabruins</td><td>0.009422023976387485</td><td>33.0</td><td>0.0</td></tr><tr><th>8</th><td>http://www.instagram.com/ucla</td><td>0.00939719682848854</td><td>30.0</td><td>0.0</td></tr><tr><th>9</th><td>http://youtube.ucla.edu</td><td>0.009333271199294758</td><td>35.0</td><td>4.0</td></tr><tr><th>10</th><td>http://www.atmos.ucla.edu/weather/quick-look</td><td>0.009064189245082434</td><td>27.0</td><td>0.0</td></tr><tr><th>11</th><td>http://bit.ly/10Wf0Te</td><td>0.009056614254228422</td><td>26.0</td><td>0.0</td></tr><tr><th>12</th><td>http://newsroom.ucla.edu</td><td>0.008980992095915468</td><td>6.0</td><td>22.0</td></tr><tr><th>13</th><td>http://happenings.ucla.edu/all/event/188501</td><td>0.008773425909301472</td><td>4.0</td><td>17.0</td></tr><tr><th>14</th><td>http://newsroom.ucla.edu/stories/international-olympic-committee-president-tours-facilities-at-ucla</td><td>0.008762950340004197</td><td>7.0</td><td>22.0</td></tr><tr><th>15</th><td>http://happenings.ucla.edu/all/event/180995</td><td>0.008760945929345117</td><td>4.0</td><td>18.0</td></tr><tr><th>16</th><td>http://happenings.ucla.edu/all/event/189518</td><td>0.008760945929345107</td><td>4.0</td><td>18.0</td></tr><tr><th>17</th><td>http://newsroom.ucla.edu/releases/electric-patch-holds-promise-for-treating-ptsd</td><td>0.00875026799090591</td><td>7.0</td><td>22.0</td></tr><tr><th>18</th><td>http://newsroom.ucla.edu/releases/anti-bullying-program-focused-on-bystanders-helps-the-students-who-need-it-the-most</td><td>0.008741173644916654</td><td>7.0</td><td>25.0</td></tr><tr><th>19</th><td>http://newsroom.ucla.edu/stories/ucla-professor-creates-video-games-that-redefine-art</td><td>0.008741173644916615</td><td>7.0</td><td>25.0</td></tr><tr><th>20</th><td>http://newsroom.ucla.edu/releases/ucla-to-provide-major-new-programs-and-services-to-veterans</td><td>0.0087364455370427</td><td>6.0</td><td>22.0</td></tr></tbody></table>"
      ],
      "text/plain": [
       "20×4 DataFrames.DataFrame\n",
       "│ Row │ ├─────┼\n",
       "│ 1   │ │ 2   │ │ 3   │ │ 4   │ │ 5   │ │ 6   │ │ 7   │ │ 8   │ │ 9   │ │ 10  │ │ 11  │ │ 12  │ │ 13  │ │ 14  │ │ 15  │ │ 16  │ │ 17  │ │ 18  │ │ 19  │ │ 20  │ \n",
       "\n",
       "│ Row │ Url                                                                                                                     │\n",
       "├─────┼─────────────────────────────────────────────────────────────────────────────────────────────────────────────────────────┤\n",
       "│ 1   │ \"http://www.ucla.edu\"                                                                                                   │\n",
       "│ 2   │ \"http://www.directory.ucla.edu\"                                                                                         │\n",
       "│ 3   │ \"http://happenings.ucla.edu\"                                                                                            │\n",
       "│ 4   │ \"http://www.universityofcalifornia.edu\"                                                                                 │\n",
       "│ 5   │ \"http://www.registrar.ucla.edu/calendar\"                                                                                │\n",
       "│ 6   │ \"http://twitter.com/ucla\"                                                                                               │\n",
       "│ 7   │ \"http://www.facebook.com/uclabruins\"                                                                                    │\n",
       "│ 8   │ \"http://www.instagram.com/ucla\"                                                                                         │\n",
       "│ 9   │ \"http://youtube.ucla.edu\"                                                                                               │\n",
       "│ 10  │ \"http://www.atmos.ucla.edu/weather/quick-look\"                                                                          │\n",
       "│ 11  │ \"http://bit.ly/10Wf0Te\"                                                                                                 │\n",
       "│ 12  │ \"http://newsroom.ucla.edu\"                                                                                              │\n",
       "│ 13  │ \"http://happenings.ucla.edu/all/event/188501\"                                                                           │\n",
       "│ 14  │ \"http://newsroom.ucla.edu/stories/international-olympic-committee-president-tours-facilities-at-ucla\"                   │\n",
       "│ 15  │ \"http://happenings.ucla.edu/all/event/180995\"                                                                           │\n",
       "│ 16  │ \"http://happenings.ucla.edu/all/event/189518\"                                                                           │\n",
       "│ 17  │ \"http://newsroom.ucla.edu/releases/electric-patch-holds-promise-for-treating-ptsd\"                                      │\n",
       "│ 18  │ \"http://newsroom.ucla.edu/releases/anti-bullying-program-focused-on-bystanders-helps-the-students-who-need-it-the-most\" │\n",
       "│ 19  │ \"http://newsroom.ucla.edu/stories/ucla-professor-creates-video-games-that-redefine-art\"                                 │\n",
       "│ 20  │ \"http://newsroom.ucla.edu/releases/ucla-to-provide-major-new-programs-and-services-to-veterans\"                         │\n",
       "\n",
       "│ Row │ Rank       │ In    │ Out  │\n",
       "├─────┼────────────┼───────┼──────┤\n",
       "│ 1   │ 0.551472   │ 171.0 │ 28.0 │\n",
       "│ 2   │ 0.0120556  │ 112.0 │ 40.0 │\n",
       "│ 3   │ 0.0114187  │ 71.0  │ 13.0 │\n",
       "│ 4   │ 0.0109152  │ 53.0  │ 35.0 │\n",
       "│ 5   │ 0.0106751  │ 55.0  │ 24.0 │\n",
       "│ 6   │ 0.00958668 │ 37.0  │ 0.0  │\n",
       "│ 7   │ 0.00942202 │ 33.0  │ 0.0  │\n",
       "│ 8   │ 0.0093972  │ 30.0  │ 0.0  │\n",
       "│ 9   │ 0.00933327 │ 35.0  │ 4.0  │\n",
       "│ 10  │ 0.00906419 │ 27.0  │ 0.0  │\n",
       "│ 11  │ 0.00905661 │ 26.0  │ 0.0  │\n",
       "│ 12  │ 0.00898099 │ 6.0   │ 22.0 │\n",
       "│ 13  │ 0.00877343 │ 4.0   │ 17.0 │\n",
       "│ 14  │ 0.00876295 │ 7.0   │ 22.0 │\n",
       "│ 15  │ 0.00876095 │ 4.0   │ 18.0 │\n",
       "│ 16  │ 0.00876095 │ 4.0   │ 18.0 │\n",
       "│ 17  │ 0.00875027 │ 7.0   │ 22.0 │\n",
       "│ 18  │ 0.00874117 │ 7.0   │ 25.0 │\n",
       "│ 19  │ 0.00874117 │ 7.0   │ 25.0 │\n",
       "│ 20  │ 0.00873645 │ 6.0   │ 22.0 │"
      ]
     },
     "execution_count": 25,
     "metadata": {},
     "output_type": "execute_result"
    }
   ],
   "source": [
    "using DataFrames\n",
    "indegree = sum(A,1);\n",
    "outdegree = sum(A,2);\n",
    "rank = sortperm(x, rev=true)[1:20]\n",
    "df = DataFrame(Url = U[rank], Rank = x[rank], In = indegree[rank], Out = outdegree[rank])"
   ]
  },
  {
   "cell_type": "code",
   "execution_count": null,
   "metadata": {
    "collapsed": true
   },
   "outputs": [],
   "source": []
  }
 ],
 "metadata": {
  "kernelspec": {
   "display_name": "Julia 0.5.1",
   "language": "julia",
   "name": "julia-0.5"
  },
  "language_info": {
   "file_extension": ".jl",
   "mimetype": "application/julia",
   "name": "julia",
   "version": "0.5.1"
  }
 },
 "nbformat": 4,
 "nbformat_minor": 1
}
