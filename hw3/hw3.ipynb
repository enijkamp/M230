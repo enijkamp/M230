{
 "cells": [
  {
   "cell_type": "markdown",
   "metadata": {},
   "source": [
    "## Biostat M280 HW3\n",
    "Due 05/19  "
   ]
  },
  {
   "cell_type": "markdown",
   "metadata": {
    "collapsed": true
   },
   "source": [
    "## Q1"
   ]
  },
  {
   "cell_type": "markdown",
   "metadata": {},
   "source": [
    "Let $A=(a_{ij}) \\in \\{0,1\\}^{n\\times n}$ be the connectivity matrix of $n$ web pages with entries\n",
    "\n",
    "$$\n",
    "a_{ij}=\\begin{cases}\n",
    "1 & i\\rightarrow j\\\\\n",
    "0 & else\n",
    "\\end{cases}\n",
    "$$\n",
    "\n",
    "where $i \\rightarrow j$ denotes an edge from page $i$ to $j$. Let $r_i = \\sum_j a_{ij}$ denote the out-degree of page $i$."
   ]
  },
  {
   "cell_type": "markdown",
   "metadata": {
    "collapsed": true
   },
   "source": [
    "Let $p$ denote the probability of randomly choosing a link $i \\rightarrow j$ and $q = (1-p)$ the probability of randomly choosing one page of the set of all $n$ pages.   \n",
    "\n",
    "Then $p_{ij}$ denotes the probability of transition $i \\rightarrow j$\n",
    "\n",
    "$$\n",
    "p_{ij}=\\begin{cases}\n",
    "p\\cdot\\frac{a_{ij}}{r_i} + q\\cdot\\frac{1}{n} & r_i > 0\\\\\n",
    "\\frac{1}{n} & r_i = 0.\n",
    "\\end{cases}\n",
    "$$"
   ]
  },
  {
   "cell_type": "markdown",
   "metadata": {},
   "source": [
    "Let $P$ denote the transition matrixsad\n",
    "\n",
    "$$\n",
    "P = Q+R\\cdot A\n",
    "$$\n",
    "\n",
    "where\n",
    "\n",
    "$$\n",
    "Q=\\frac{1}{n}\\cdot q\\cdot1_{1\\times n}\n",
    "$$\n",
    "\n",
    "with $q = (q_1,q_2,\\ldots,q_n)^T \\in \\mathbb{R}^n$ with\n",
    "\n",
    "$$\n",
    "q_i=\\begin{cases}\n",
    "q, & r_i > 0\\\\\n",
    "1, & r_i = 0\n",
    "\\end{cases}\n",
    "$$\n",
    "\n",
    "and\n",
    "\n",
    "$$\n",
    "R=\\left(\\begin{array}{cccc}\n",
    "\\widetilde{r}_{1} & 0 & \\ldots & 0\\\\\n",
    "0 & \\widetilde{r}_{2} &  & \\vdots\\\\\n",
    "\\vdots &  & \\ddots & 0\\\\\n",
    "0 & \\cdots & 0 & \\widetilde{r}_{n}\n",
    "\\end{array}\\right)\n",
    "$$\n",
    "\n",
    "with\n",
    "\n",
    "$$\n",
    "\\widetilde{r}_i=\\begin{cases}\n",
    "\\frac{p}{r_i}, & r_i > 0\\\\\n",
    "0, & r_i = 0.\n",
    "\\end{cases}\n",
    "$$"
   ]
  },
  {
   "cell_type": "markdown",
   "metadata": {},
   "source": [
    "## Q2"
   ]
  },
  {
   "cell_type": "markdown",
   "metadata": {
    "collapsed": true
   },
   "source": [
    "Let $P=(p_{ij})$ denote $\\vert\\Omega\\vert\\times\\vert\\Omega\\vert$ transition matrix where $p_{ij} = P(x_{t+1}=j\\vert x_t=i)$ with transition $i \\rightarrow j$ for a Markov chain on $\\Omega$ as stochastic process $\\{X_0,X_1,\\ldots,X_n\\}$.\n",
    "  \n",
    "We assume $P$ is irreducable and aperiodic, that is the chain is ergodic. We observe $P$ is a non-negative row-stochastic matrix $P\\cdot1=1$.\n",
    "   \n",
    "Then the fundamental theorem of Markov Chains states that there exists a unique stationary distribution $\\pi$ as left-eigenvector such that $\\pi P=\\pi$ with spectral radius $\\rho(P) = \\max \\left \\{ |\\lambda_1|, \\cdots, |\\lambda_n| \\right \\} = 1$. We omit the proof which is a direct consequence of the Perron-Frobenius theorem.\n",
    "  \n",
    "We formulate the above as left eigen-value problem $\\pi P=\\pi\\lambda$ as $P^T\\pi^T=\\lambda\\pi^T$ which can be equivalently stated as $(P^T-\\lambda I)\\pi^T = 0.$ In our case, we want to solve for $\\lambda=1$ with stationary distribution $\\pi$ and we obtain the linear system\n",
    "\n",
    "$$(P^T - I)\\pi^T = 0.$$\n",
    "\n",
    "Observe $P\\cdot1=1$ causes $\\det(P^T-I)=0$ since the rows are not linearly independent or equivalently the sum of each column is zero. Since $\\pi$ must be a probability distribution, we can further constraint the system with $\\sum_i\\pi_i=1$."
   ]
  },
  {
   "cell_type": "markdown",
   "metadata": {},
   "source": [
    "## Q3"
   ]
  },
  {
   "cell_type": "code",
   "execution_count": 1,
   "metadata": {
    "collapsed": false
   },
   "outputs": [],
   "source": [
    "A = readdlm(\"A.txt\", ',');\n",
    "U = readdlm(\"U.txt\", ',');\n",
    "As = sparse(A);\n",
    "p = 0.85;\n",
    "inedges = sum(A, 1);\n",
    "outedges = sum(A, 2);"
   ]
  },
  {
   "cell_type": "code",
   "execution_count": 2,
   "metadata": {
    "collapsed": false
   },
   "outputs": [
    {
     "data": {
      "text/plain": [
       "\"#pages = 500\""
      ]
     },
     "execution_count": 2,
     "metadata": {},
     "output_type": "execute_result"
    }
   ],
   "source": [
    "\"#pages = \" * string(size(A)[1])"
   ]
  },
  {
   "cell_type": "code",
   "execution_count": 3,
   "metadata": {
    "collapsed": false
   },
   "outputs": [
    {
     "data": {
      "text/plain": [
       "\"#links = 11158.0\""
      ]
     },
     "execution_count": 3,
     "metadata": {},
     "output_type": "execute_result"
    }
   ],
   "source": [
    "\"#links = \" * string(sum(A))"
   ]
  },
  {
   "cell_type": "code",
   "execution_count": 4,
   "metadata": {
    "collapsed": false
   },
   "outputs": [
    {
     "data": {
      "text/plain": [
       "\"#dangling = 96\""
      ]
     },
     "execution_count": 4,
     "metadata": {},
     "output_type": "execute_result"
    }
   ],
   "source": [
    "\"#dangling = \" * string(sum(outedges .< 1))"
   ]
  },
  {
   "cell_type": "code",
   "execution_count": 5,
   "metadata": {
    "collapsed": false
   },
   "outputs": [
    {
     "data": {
      "text/plain": [
       "\"http://www.ucla.edu\""
      ]
     },
     "execution_count": 5,
     "metadata": {},
     "output_type": "execute_result"
    }
   ],
   "source": [
    "U[indmax(inedges)]"
   ]
  },
  {
   "cell_type": "code",
   "execution_count": 6,
   "metadata": {
    "collapsed": false
   },
   "outputs": [
    {
     "data": {
      "text/plain": [
       "\"http://giveto.ucla.edu\""
      ]
     },
     "execution_count": 6,
     "metadata": {},
     "output_type": "execute_result"
    }
   ],
   "source": [
    "U[indmax(outedges)]"
   ]
  },
  {
   "cell_type": "code",
   "execution_count": 7,
   "metadata": {
    "collapsed": false
   },
   "outputs": [
    {
     "data": {
      "image/png": "[encoded data removed]",
      "text/plain": [
       "PyPlot.Figure(PyObject <matplotlib.figure.Figure object at 0x7f2c695b9990>)"
      ]
     },
     "metadata": {},
     "output_type": "display_data"
    },
    {
     "data": {
      "text/plain": [
       "PyObject <matplotlib.image.AxesImage object at 0x7f2c69264190>"
      ]
     },
     "execution_count": 7,
     "metadata": {},
     "output_type": "execute_result"
    }
   ],
   "source": [
    "using PyPlot\n",
    "matshow(A)"
   ]
  },
  {
   "cell_type": "markdown",
   "metadata": {},
   "source": [
    "## Q4"
   ]
  },
  {
   "cell_type": "markdown",
   "metadata": {},
   "source": [
    "** 1) LU **"
   ]
  },
  {
   "cell_type": "code",
   "execution_count": 7,
   "metadata": {
    "collapsed": false
   },
   "outputs": [
    {
     "data": {
      "text/plain": [
       "pagerank_lu (generic function with 2 methods)"
      ]
     },
     "execution_count": 7,
     "metadata": {},
     "output_type": "execute_result"
    }
   ],
   "source": [
    "function pagerank_lu(A::AbstractMatrix, telep::Float64 = 0.85)\n",
    "    \n",
    "    n = size(A, 1)\n",
    "    # r and z vectors\n",
    "    outdeginv = vec(sum(A, 2))\n",
    "    z = zeros(outdeginv)\n",
    "    fill!(z, 1 / n)\n",
    "    for i in 1:n\n",
    "        if outdeginv[i] > 0\n",
    "            outdeginv[i] = telep / outdeginv[i]\n",
    "            z[i] = (1 - telep) / n\n",
    "        end\n",
    "    end\n",
    "    # P = outdeginv * A .+ z\n",
    "    # prepare the linear system I - P^t\n",
    "    M = I - full(A') * Diagonal(outdeginv) .- z'\n",
    "    # replace the first equation by the sum-to-1 constraint\n",
    "    M[1, :] = 1.0\n",
    "    # LU solve with right hand side e_1\n",
    "    b = zeros(n)\n",
    "    b[1] = 1.0\n",
    "    return M \\ b\n",
    "    \n",
    "end"
   ]
  },
  {
   "cell_type": "code",
   "execution_count": 23,
   "metadata": {
    "collapsed": false
   },
   "outputs": [
    {
     "name": "stderr",
     "output_type": "stream",
     "text": [
      "WARNING: Method definition pr_lu(Any, Any) in module Main at In[11]:3 overwritten at In[23]:3.\n"
     ]
    },
    {
     "data": {
      "text/plain": [
       "pr_lu (generic function with 1 method)"
      ]
     },
     "execution_count": 23,
     "metadata": {},
     "output_type": "execute_result"
    }
   ],
   "source": [
    "function pr_lu(A, p)\n",
    "    # matrices\n",
    "    (n, n) = size(A)\n",
    "    r = sum(A, 2)\n",
    "    q = 1/n * [r[i] > 0 ? (1-p) : 1 for i=1:n]\n",
    "    r_tilde = [r[i] > 0 ? (p / r[i]) : 0 for i=1:n]\n",
    "    RA = r_tilde .* A\n",
    "    P = RA .+ q\n",
    "    \n",
    "    # slow\n",
    "    # RA = diagm(r_tilde) * A\n",
    "    # Q = q * ones(1, n)\n",
    "    # P = RA + Q\n",
    "    \n",
    "    # decomposition\n",
    "    I = sparse(eye(n))\n",
    "    I_P = (I - P')\n",
    "    I_P[1,:] = 1\n",
    "    b = [1; zeros(n - 1)]\n",
    "    x = lufact(I_P) \\ b\n",
    "    return vec(x)\n",
    "end"
   ]
  },
  {
   "cell_type": "markdown",
   "metadata": {},
   "source": [
    "** 2) Jacobi **"
   ]
  },
  {
   "cell_type": "markdown",
   "metadata": {},
   "source": [
    "Let $Ax=b$ be a linear system of equations. Let $A=D+R$ where $D=diag(A)$ and $R$ denotes the non-diagonal elements. Then the solution is obtained by Jacobi iterations\n",
    "\n",
    "$$\n",
    "x^{(k+1)} = D^{-1}(b - R x^{(k)}).\n",
    "$$\n",
    "\n",
    "In our case we have $A = (I-P')$, $b=0$ and $x=\\pi$."
   ]
  },
  {
   "cell_type": "code",
   "execution_count": 22,
   "metadata": {
    "collapsed": false
   },
   "outputs": [
    {
     "name": "stderr",
     "output_type": "stream",
     "text": [
      "WARNING: Method definition pr_jacobi(Any, Any) in module Main at In[13]:3 overwritten at In[22]:3.\n"
     ]
    },
    {
     "data": {
      "text/plain": [
       "pr_jacobi (generic function with 1 method)"
      ]
     },
     "execution_count": 22,
     "metadata": {},
     "output_type": "execute_result"
    }
   ],
   "source": [
    "function pr_jacobi(A, p)\n",
    "    # matrices\n",
    "    (n, n) = size(A)\n",
    "    r = sum(A, 2)\n",
    "    q = 1/n * [r[i] > 0 ? (1 - p) : 1 for i = 1:n]\n",
    "    r_tilde = [r[i] > 0 ? (p / r[i]) : 0 for i = 1:n]\n",
    "    RA = r_tilde .* A\n",
    "    P = RA .+ q\n",
    "    \n",
    "    # slow\n",
    "    # RA = diagm(r_tilde) * A\n",
    "    # Q = q * ones(1, n)\n",
    "    # P = RA + Q\n",
    "    \n",
    "    # init\n",
    "    #I = sparse(eye(n))\n",
    "    #I_P = (I - P')\n",
    "    # R = I_P - diagm(diag(I_P)) # we lose sparisty here, slow\n",
    "    x = ones(n ,1) ./ n\n",
    "    #D = diag(I_P)\n",
    "    D = 1 - diag(P')\n",
    "    \n",
    "    # jacobi\n",
    "    for i = 1:100\n",
    "        x_prev = x\n",
    "        \n",
    "        # derivation to increase efficiency\n",
    "        # x = ( -R*x ) ./ D\n",
    "        # x = ( -((I - P')  - diagm(diag(I_P)))*x ) ./ D\n",
    "        # x = ( -((I - P')  - diagm(D))*x ) ./ D\n",
    "        # x = ( -(I - P')*x + diagm(D)*x ) ./ D\n",
    "        # x = -Ix ./ D + P'x ./ D + diagm(D)*x ./ D\n",
    "        # x = -x ./ D + (P'*x) ./ D + x  \n",
    "        \n",
    "        # reduce memory allocation by avoiding (P = RA .+ q)\n",
    "        x = -x ./ D + (RA' * x) ./ D + (q' * x) ./ D + x \n",
    "        l1 = sum(abs(x_prev - x))\n",
    "        \n",
    "        #if i % 10 == 0\n",
    "        #    println(string(l1))\n",
    "        #end\n",
    "        \n",
    "        if(l1 < 1e-7)\n",
    "            break\n",
    "        end\n",
    "    end\n",
    "    x = abs(x / sum(x))\n",
    "    \n",
    "    return vec(x)\n",
    "end"
   ]
  },
  {
   "cell_type": "markdown",
   "metadata": {},
   "source": [
    "**3) Dense eigen-solver**"
   ]
  },
  {
   "cell_type": "code",
   "execution_count": 25,
   "metadata": {
    "collapsed": false
   },
   "outputs": [
    {
     "data": {
      "text/plain": [
       "pr_dense_eig (generic function with 1 method)"
      ]
     },
     "execution_count": 25,
     "metadata": {},
     "output_type": "execute_result"
    }
   ],
   "source": [
    "function pr_dense_eig(A, p)\n",
    "    # matrices\n",
    "    (n, n) = size(A)\n",
    "    r = sum(A, 2)\n",
    "    q = 1 / n * [r[i] > 0 ? (1 - p) : 1 for i = 1:n]\n",
    "    r_tilde = [r[i] > 0 ? (p / r[i]) : 0 for i = 1:n]\n",
    "    RA = r_tilde .* A\n",
    "    P = RA .+ q\n",
    "    \n",
    "    # solve\n",
    "    (eig_d, eig_v) = eig(P')\n",
    "    x = real(eig_v[:, indmax(real(eig_d))])\n",
    "    x = abs(x / sum(x))\n",
    "    \n",
    "    return vec(x)\n",
    "end"
   ]
  },
  {
   "cell_type": "markdown",
   "metadata": {},
   "source": [
    "**4) Power method**"
   ]
  },
  {
   "cell_type": "code",
   "execution_count": 26,
   "metadata": {
    "collapsed": false
   },
   "outputs": [
    {
     "data": {
      "text/plain": [
       "pr_power (generic function with 1 method)"
      ]
     },
     "execution_count": 26,
     "metadata": {},
     "output_type": "execute_result"
    }
   ],
   "source": [
    "function pr_power(A, p)\n",
    "    # matrices\n",
    "    (n, n) = size(A)\n",
    "    r = sum(A, 2)\n",
    "    q = 1 / n * [r[i] > 0 ? (1 - p) : 1 for i = 1:n]\n",
    "    r_tilde = [r[i] > 0 ? (p / r[i]) : 0 for i = 1:n]\n",
    "    RA = r_tilde .* A\n",
    "    \n",
    "    # init\n",
    "    x = ones(1, n) ./ n\n",
    "    \n",
    "    # power\n",
    "    for i = 1:100\n",
    "        x_prev = x\n",
    "        x = x * RA + sum(x * q)\n",
    "        x ./= norm(x)\n",
    "\n",
    "        l1 = sum(abs(x_prev - x))\n",
    "        #if i % 10 == 0\n",
    "        #    println(string(l1))\n",
    "        #end\n",
    "        if(l1 < 1e-7)\n",
    "            break\n",
    "        end\n",
    "    end\n",
    "    x /= sum(x)\n",
    "\n",
    "    return(vec(x))\n",
    "end"
   ]
  },
  {
   "cell_type": "markdown",
   "metadata": {},
   "source": [
    "** Correctness **"
   ]
  },
  {
   "cell_type": "code",
   "execution_count": 10,
   "metadata": {
    "collapsed": false
   },
   "outputs": [
    {
     "data": {
      "text/plain": [
       "10-element Array{Float64,1}:\n",
       " 0.0196564 \n",
       " 0.0185276 \n",
       " 0.0171095 \n",
       " 0.0153243 \n",
       " 0.0133015 \n",
       " 0.0121278 \n",
       " 0.0115263 \n",
       " 0.0104137 \n",
       " 0.00977602\n",
       " 0.00750605"
      ]
     },
     "execution_count": 10,
     "metadata": {},
     "output_type": "execute_result"
    }
   ],
   "source": [
    "sort(pr_lu(As, p), rev=true)[1:10]"
   ]
  },
  {
   "cell_type": "code",
   "execution_count": 23,
   "metadata": {
    "collapsed": false
   },
   "outputs": [
    {
     "data": {
      "text/plain": [
       "10-element Array{Float64,1}:\n",
       " 0.0196564 \n",
       " 0.0185276 \n",
       " 0.0171095 \n",
       " 0.0153243 \n",
       " 0.0133015 \n",
       " 0.0121278 \n",
       " 0.0115263 \n",
       " 0.0104137 \n",
       " 0.00977602\n",
       " 0.00750605"
      ]
     },
     "execution_count": 23,
     "metadata": {},
     "output_type": "execute_result"
    }
   ],
   "source": [
    "sort(pr_jacobi(As, p), rev=true)[1:10]"
   ]
  },
  {
   "cell_type": "code",
   "execution_count": 85,
   "metadata": {
    "collapsed": false
   },
   "outputs": [
    {
     "data": {
      "text/plain": [
       "10-element Array{Float64,1}:\n",
       " 0.0196564 \n",
       " 0.0185276 \n",
       " 0.0171095 \n",
       " 0.0153243 \n",
       " 0.0133015 \n",
       " 0.0121278 \n",
       " 0.0115263 \n",
       " 0.0104137 \n",
       " 0.00977602\n",
       " 0.00750605"
      ]
     },
     "execution_count": 85,
     "metadata": {},
     "output_type": "execute_result"
    }
   ],
   "source": [
    "sort(pr_dense_eig(As, p), rev=true)[1:10]"
   ]
  },
  {
   "cell_type": "code",
   "execution_count": 81,
   "metadata": {
    "collapsed": false
   },
   "outputs": [
    {
     "data": {
      "text/plain": [
       "10-element Array{Real,1}:\n",
       " 0.0196564 \n",
       " 0.0185276 \n",
       " 0.0171095 \n",
       " 0.0153243 \n",
       " 0.0133015 \n",
       " 0.0121278 \n",
       " 0.0115263 \n",
       " 0.0104137 \n",
       " 0.00977602\n",
       " 0.00750605"
      ]
     },
     "execution_count": 81,
     "metadata": {},
     "output_type": "execute_result"
    }
   ],
   "source": [
    "sort(pr_power(As, p), rev=true)[1:10]"
   ]
  },
  {
   "cell_type": "markdown",
   "metadata": {},
   "source": [
    "**Benchmark**"
   ]
  },
  {
   "cell_type": "code",
   "execution_count": 12,
   "metadata": {
    "collapsed": false
   },
   "outputs": [
    {
     "name": "stderr",
     "output_type": "stream",
     "text": [
      "\u001b[1m\u001b[34mINFO: Recompiling stale cache file /home/juser/.julia/lib/v0.5/JLD.ji for module JLD.\n",
      "\u001b[0m"
     ]
    }
   ],
   "source": [
    "Pkg.add(\"BenchmarkTools\")\n",
    "using BenchmarkTools"
   ]
  },
  {
   "cell_type": "code",
   "execution_count": 28,
   "metadata": {
    "collapsed": false
   },
   "outputs": [
    {
     "data": {
      "text/plain": [
       "BenchmarkTools.Trial: \n",
       "  memory estimate:  35.16 MiB\n",
       "  allocs estimate:  1538657\n",
       "  --------------\n",
       "  minimum time:     2.557 s (0.78% GC)\n",
       "  median time:      2.599 s (1.25% GC)\n",
       "  mean time:        2.599 s (1.25% GC)\n",
       "  maximum time:     2.640 s (1.70% GC)\n",
       "  --------------\n",
       "  samples:          2\n",
       "  evals/sample:     1"
      ]
     },
     "execution_count": 28,
     "metadata": {},
     "output_type": "execute_result"
    }
   ],
   "source": [
    "@benchmark pr_lu(As, p)"
   ]
  },
  {
   "cell_type": "code",
   "execution_count": 13,
   "metadata": {
    "collapsed": false
   },
   "outputs": [
    {
     "data": {
      "text/plain": [
       "BenchmarkTools.Trial: \n",
       "  memory estimate:  9.74 MiB\n",
       "  allocs estimate:  51\n",
       "  --------------\n",
       "  minimum time:     3.011 s (0.00% GC)\n",
       "  median time:      3.082 s (0.00% GC)\n",
       "  mean time:        3.082 s (0.00% GC)\n",
       "  maximum time:     3.152 s (0.00% GC)\n",
       "  --------------\n",
       "  samples:          2\n",
       "  evals/sample:     1"
      ]
     },
     "execution_count": 13,
     "metadata": {},
     "output_type": "execute_result"
    }
   ],
   "source": [
    "@benchmark pagerank_lu(As, p)"
   ]
  },
  {
   "cell_type": "code",
   "execution_count": 24,
   "metadata": {
    "collapsed": false
   },
   "outputs": [
    {
     "data": {
      "text/plain": [
       "BenchmarkTools.Trial: \n",
       "  memory estimate:  35.29 MiB\n",
       "  allocs estimate:  1842281\n",
       "  --------------\n",
       "  minimum time:     2.012 s (0.00% GC)\n",
       "  median time:      2.018 s (0.00% GC)\n",
       "  mean time:        2.024 s (0.00% GC)\n",
       "  maximum time:     2.042 s (0.00% GC)\n",
       "  --------------\n",
       "  samples:          3\n",
       "  evals/sample:     1"
      ]
     },
     "execution_count": 24,
     "metadata": {},
     "output_type": "execute_result"
    }
   ],
   "source": [
    "@benchmark pr_jacobi(As, p)"
   ]
  },
  {
   "cell_type": "code",
   "execution_count": 31,
   "metadata": {
    "collapsed": false
   },
   "outputs": [
    {
     "data": {
      "text/plain": [
       "BenchmarkTools.Trial: \n",
       "  memory estimate:  23.86 MiB\n",
       "  allocs estimate:  788314\n",
       "  --------------\n",
       "  minimum time:     1.508 s (1.77% GC)\n",
       "  median time:      1.518 s (2.19% GC)\n",
       "  mean time:        1.517 s (2.12% GC)\n",
       "  maximum time:     1.525 s (2.24% GC)\n",
       "  --------------\n",
       "  samples:          4\n",
       "  evals/sample:     1"
      ]
     },
     "execution_count": 31,
     "metadata": {},
     "output_type": "execute_result"
    }
   ],
   "source": [
    "@benchmark pr_dense_eig(As, p)"
   ]
  },
  {
   "cell_type": "code",
   "execution_count": 32,
   "metadata": {
    "collapsed": false
   },
   "outputs": [
    {
     "data": {
      "text/plain": [
       "BenchmarkTools.Trial: \n",
       "  memory estimate:  61.12 MiB\n",
       "  allocs estimate:  3873544\n",
       "  --------------\n",
       "  minimum time:     5.925 s (0.53% GC)\n",
       "  median time:      5.925 s (0.53% GC)\n",
       "  mean time:        5.925 s (0.53% GC)\n",
       "  maximum time:     5.925 s (0.53% GC)\n",
       "  --------------\n",
       "  samples:          1\n",
       "  evals/sample:     1"
      ]
     },
     "execution_count": 32,
     "metadata": {},
     "output_type": "execute_result"
    }
   ],
   "source": [
    "@benchmark pr_power(As, p)"
   ]
  },
  {
   "cell_type": "markdown",
   "metadata": {},
   "source": [
    "## Q5"
   ]
  },
  {
   "cell_type": "code",
   "execution_count": 30,
   "metadata": {
    "collapsed": false,
    "scrolled": true
   },
   "outputs": [
    {
     "data": {
      "text/html": [
       "<table class=\"data-frame\"><thead><tr><th></th><th>Url</th><th>Rank</th><th>In</th><th>Out</th></tr></thead><tbody><tr><th>1</th><td>http://hammer.ucla.edu</td><td>0.01965638895811204</td><td>8.0</td><td>1.0</td></tr><tr><th>2</th><td>http://schema.org</td><td>0.01852764462659933</td><td>43.0</td><td>0.0</td></tr><tr><th>3</th><td>http://www</td><td>0.017109545571273588</td><td>126.0</td><td>0.0</td></tr><tr><th>4</th><td>http://giveto.ucla.edu/comments/feed</td><td>0.015324325326110787</td><td>72.0</td><td>1.0</td></tr><tr><th>5</th><td>http://browsehappy.com</td><td>0.013301527426548875</td><td>6.0</td><td>1.0</td></tr><tr><th>6</th><td>http://schema.org/Text</td><td>0.012127809973258121</td><td>28.0</td><td>2.0</td></tr><tr><th>7</th><td>http://www.ucla.edu</td><td>0.01152628491759765</td><td>171.0</td><td>28.0</td></tr><tr><th>8</th><td>http://www.directory.ucla.edu</td><td>0.010413659925872554</td><td>112.0</td><td>40.0</td></tr><tr><th>9</th><td>http://www.universityofcalifornia.edu</td><td>0.009776022768490595</td><td>53.0</td><td>35.0</td></tr><tr><th>10</th><td>http://schema.org/CreativeWork</td><td>0.007506052472695943</td><td>27.0</td><td>30.0</td></tr><tr><th>11</th><td>http://www.registrar.ucla.edu/calendar</td><td>0.007062961656173728</td><td>55.0</td><td>24.0</td></tr><tr><th>12</th><td>http://giveto.ucla.edu</td><td>0.007017716271349359</td><td>134.0</td><td>88.0</td></tr><tr><th>13</th><td>http://www.magazine.ucla.edu/features/get-the-picture-the-ucla-brain-mapping-center</td><td>0.006063411563811342</td><td>59.0</td><td>21.0</td></tr><tr><th>14</th><td>http://www.magazine.ucla.edu/depts/hailhills/uncle-welton-in-westwood</td><td>0.006063411563811342</td><td>59.0</td><td>24.0</td></tr><tr><th>15</th><td>http://www.magazine.ucla.edu/depts/style/the-dancing-scientist</td><td>0.006063411563811338</td><td>59.0</td><td>23.0</td></tr><tr><th>16</th><td>http://www.magazine.ucla.edu/features/hope-is-real-the-ucla-depression-grand-challenge</td><td>0.006063411563811335</td><td>59.0</td><td>22.0</td></tr><tr><th>17</th><td>http://www.magazine.ucla.edu/depts/lifesigns/honoring-adolescence</td><td>0.00606341156381133</td><td>59.0</td><td>25.0</td></tr><tr><th>18</th><td>http://www.magazine.ucla.edu/features/heads-up</td><td>0.0060634115638113295</td><td>59.0</td><td>22.0</td></tr><tr><th>19</th><td>http://www.magazine.ucla.edu/features/patient-test-thyself</td><td>0.0060634115638113295</td><td>59.0</td><td>23.0</td></tr><tr><th>20</th><td>http://www.magazine.ucla.edu/features/not-your-fathers-mba</td><td>0.0060634115638113295</td><td>59.0</td><td>22.0</td></tr></tbody></table>"
      ],
      "text/plain": [
       "20×4 DataFrames.DataFrame\n",
       "│ Row │ ├─────┼\n",
       "│ 1   │ │ 2   │ │ 3   │ │ 4   │ │ 5   │ │ 6   │ │ 7   │ │ 8   │ │ 9   │ │ 10  │ │ 11  │ │ 12  │ │ 13  │ │ 14  │ │ 15  │ │ 16  │ │ 17  │ │ 18  │ │ 19  │ │ 20  │ \n",
       "\n",
       "│ Row │ Url                                                                                      │\n",
       "├─────┼──────────────────────────────────────────────────────────────────────────────────────────┤\n",
       "│ 1   │ \"http://hammer.ucla.edu\"                                                                 │\n",
       "│ 2   │ \"http://schema.org\"                                                                      │\n",
       "│ 3   │ \"http://www\"                                                                             │\n",
       "│ 4   │ \"http://giveto.ucla.edu/comments/feed\"                                                   │\n",
       "│ 5   │ \"http://browsehappy.com\"                                                                 │\n",
       "│ 6   │ \"http://schema.org/Text\"                                                                 │\n",
       "│ 7   │ \"http://www.ucla.edu\"                                                                    │\n",
       "│ 8   │ \"http://www.directory.ucla.edu\"                                                          │\n",
       "│ 9   │ \"http://www.universityofcalifornia.edu\"                                                  │\n",
       "│ 10  │ \"http://schema.org/CreativeWork\"                                                         │\n",
       "│ 11  │ \"http://www.registrar.ucla.edu/calendar\"                                                 │\n",
       "│ 12  │ \"http://giveto.ucla.edu\"                                                                 │\n",
       "│ 13  │ \"http://www.magazine.ucla.edu/features/get-the-picture-the-ucla-brain-mapping-center\"    │\n",
       "│ 14  │ \"http://www.magazine.ucla.edu/depts/hailhills/uncle-welton-in-westwood\"                  │\n",
       "│ 15  │ \"http://www.magazine.ucla.edu/depts/style/the-dancing-scientist\"                         │\n",
       "│ 16  │ \"http://www.magazine.ucla.edu/features/hope-is-real-the-ucla-depression-grand-challenge\" │\n",
       "│ 17  │ \"http://www.magazine.ucla.edu/depts/lifesigns/honoring-adolescence\"                      │\n",
       "│ 18  │ \"http://www.magazine.ucla.edu/features/heads-up\"                                         │\n",
       "│ 19  │ \"http://www.magazine.ucla.edu/features/patient-test-thyself\"                             │\n",
       "│ 20  │ \"http://www.magazine.ucla.edu/features/not-your-fathers-mba\"                             │\n",
       "\n",
       "│ Row │ Rank       │ In    │ Out  │\n",
       "├─────┼────────────┼───────┼──────┤\n",
       "│ 1   │ 0.0196564  │ 8.0   │ 1.0  │\n",
       "│ 2   │ 0.0185276  │ 43.0  │ 0.0  │\n",
       "│ 3   │ 0.0171095  │ 126.0 │ 0.0  │\n",
       "│ 4   │ 0.0153243  │ 72.0  │ 1.0  │\n",
       "│ 5   │ 0.0133015  │ 6.0   │ 1.0  │\n",
       "│ 6   │ 0.0121278  │ 28.0  │ 2.0  │\n",
       "│ 7   │ 0.0115263  │ 171.0 │ 28.0 │\n",
       "│ 8   │ 0.0104137  │ 112.0 │ 40.0 │\n",
       "│ 9   │ 0.00977602 │ 53.0  │ 35.0 │\n",
       "│ 10  │ 0.00750605 │ 27.0  │ 30.0 │\n",
       "│ 11  │ 0.00706296 │ 55.0  │ 24.0 │\n",
       "│ 12  │ 0.00701772 │ 134.0 │ 88.0 │\n",
       "│ 13  │ 0.00606341 │ 59.0  │ 21.0 │\n",
       "│ 14  │ 0.00606341 │ 59.0  │ 24.0 │\n",
       "│ 15  │ 0.00606341 │ 59.0  │ 23.0 │\n",
       "│ 16  │ 0.00606341 │ 59.0  │ 22.0 │\n",
       "│ 17  │ 0.00606341 │ 59.0  │ 25.0 │\n",
       "│ 18  │ 0.00606341 │ 59.0  │ 22.0 │\n",
       "│ 19  │ 0.00606341 │ 59.0  │ 23.0 │\n",
       "│ 20  │ 0.00606341 │ 59.0  │ 22.0 │"
      ]
     },
     "execution_count": 30,
     "metadata": {},
     "output_type": "execute_result"
    }
   ],
   "source": [
    "using DataFrames\n",
    "p = 0.85\n",
    "indegree = sum(A,1);\n",
    "outdegree = sum(A,2);\n",
    "x = pr_lu(As, p)\n",
    "rank = sortperm(x, rev=true)[1:20]\n",
    "df = DataFrame(Url = U[rank], Rank = x[rank], In = indegree[rank], Out = outdegree[rank])"
   ]
  },
  {
   "cell_type": "markdown",
   "metadata": {
    "collapsed": true
   },
   "source": [
    "## Q6"
   ]
  },
  {
   "cell_type": "markdown",
   "metadata": {},
   "source": [
    "1. LU: Unlikely.\n",
    "2. Jacobi: Likely.\n",
    "3. Dense eigen-solver: Unlikely.\n",
    "4. Power: Likely.\n",
    "\n",
    "We assume iterative approaches such as a Jacobi or Power method (or variations) could be able to solve the eigen-value problem at this scale. Further, iterative algorithms allow us to early exit with an approximate result which should be sufficient for the pagerank problem. Since we are only intersted in the eigenvector corresponding to the largest eigenvalue, that is the stationary distribution (see Perron–Frobenius theorem), the power method appears particularly applicable.  \n",
    "\n",
    "In contrast, exact methods like the LU and dense eigen solvers might require large amounts of memory. Sparse matrices in general do not have a sparse LU decomposition, and if the factors do not fit into (fast) memory, these methods become unusable. However, there appears to be research regarding sparse LU decomposition of Markov kernels."
   ]
  }
 ],
 "metadata": {
  "kernelspec": {
   "display_name": "Julia 0.5.2",
   "language": "julia",
   "name": "julia-0.5"
  },
  "language_info": {
   "file_extension": ".jl",
   "mimetype": "application/julia",
   "name": "julia",
   "version": "0.5.2"
  }
 },
 "nbformat": 4,
 "nbformat_minor": 1
}
