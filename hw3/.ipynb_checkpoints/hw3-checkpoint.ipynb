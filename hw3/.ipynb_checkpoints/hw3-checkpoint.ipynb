{
 "cells": [
  {
   "cell_type": "markdown",
   "metadata": {},
   "source": [
    "## Biostat M280 HW3\n",
    "Due 05/19  \n",
    "\n",
    "Julia Cheatsheet https://cheatsheets.quantecon.org/julia-cheatsheet.html"
   ]
  },
  {
   "cell_type": "markdown",
   "metadata": {
    "collapsed": true
   },
   "source": [
    "## Q1"
   ]
  },
  {
   "cell_type": "markdown",
   "metadata": {},
   "source": [
    "Let $A \\in {0,1}^{n\\times n}$ be the connectivity matrix of $n$ web pages with entries\n",
    "\n",
    "$$\n",
    "a_{ij}=\\begin{cases}\n",
    "1 & i\\rightarrow j\\\\\n",
    "0 & else\n",
    "\\end{cases}\n",
    "$$\n",
    "\n",
    "where $i \\rightarrow j$ denotes the transition from page $i$ to $j$. Let $r_i = \\sum_j a_{ij}$ denote the out-degree of page $i$.  \n",
    "\n",
    "Let $p$ denote the probability of randomly choosing a link $i \\rightarrow j$ and $q = (1-p)$ the probability of randomly choosing one page of the set of all $n$ pages.   \n",
    "\n",
    "Then $p_{ij}$ denotes the probability of transition $i \\rightarrow j$\n",
    "\n",
    "$$\n",
    "p_{ij}=\\begin{cases}\n",
    "p\\cdot\\frac{a){ij}}{r_i} + q\\cdot\\frac{1}{n} & r_i > 0\\\\\n",
    "\\frac{1}{n} & r_i = 0\n",
    "\\end{cases}.\n",
    "$$\n",
    "\n",
    "Write in matrix notation\n",
    "\n",
    "$$\n",
    "P = \n",
    "$$\n",
    "\n",
    "\n"
   ]
  },
  {
   "cell_type": "code",
   "execution_count": null,
   "metadata": {
    "collapsed": true
   },
   "outputs": [],
   "source": []
  }
 ],
 "metadata": {
  "kernelspec": {
   "display_name": "Julia 0.5.1",
   "language": "julia",
   "name": "julia-0.5"
  },
  "language_info": {
   "file_extension": ".jl",
   "mimetype": "application/julia",
   "name": "julia",
   "version": "0.5.1"
  }
 },
 "nbformat": 4,
 "nbformat_minor": 1
}
